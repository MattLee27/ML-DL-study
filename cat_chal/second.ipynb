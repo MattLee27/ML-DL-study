{
 "cells": [
  {
   "cell_type": "markdown",
   "metadata": {},
   "source": [
    "## Categorical Feature Encoding Challenge\n",
    "- Feature 정리\n",
    "    - train 30만 개 중 target은 0이 21만개, 1이 9만개 정도. baseline은 0.7\n",
    "    - 모든 변수는 범주형인데, 그 중 unique한 값이 가장 많은 nom_9는 11981개\n",
    "    - ord_3는 알파벳 소문자 26개 중 15개 (a ~ o). m이 아주 적음\n",
    "    - ord_4는 알파벳 대문자 26개. 역시 M이 아주 적음\n",
    "    - day는 0~7. 6이 아주 적음\n",
    "    - month는 1~12. 역시 6이 아주 적음\n",
    "    - ord_5는 1,2번째 글자로 나뉨. 대소문자 알파벳이며 첫째 문자(ord_5a)는 모든 대소문자가 있고(52개), 두번째 문자(ord_5b)는 소문자 z만 빠진 51개\n",
    "- 모델 학습하고 나서 _coef로 feature importance 보기!!"
   ]
  },
  {
   "cell_type": "code",
   "execution_count": 1,
   "metadata": {},
   "outputs": [],
   "source": [
    "import numpy as np\n",
    "import pandas as pd\n",
    "import matplotlib.pyplot as plt\n",
    "%matplotlib inline\n",
    "import seaborn as sns\n",
    "sns.set(style='ticks') # 그래프를 seaborn 스타일로 그리기\n",
    "plt.rc('font', family = 'Malgun Gothic') # 한글 처리\n",
    "\n",
    "from sklearn.linear_model import LogisticRegression\n",
    "import scipy\n",
    "from tqdm import tqdm_notebook as tqdm"
   ]
  },
  {
   "cell_type": "code",
   "execution_count": 2,
   "metadata": {},
   "outputs": [
    {
     "name": "stdout",
     "output_type": "stream",
     "text": [
      "(300000, 25)\n",
      "(200000, 24)\n",
      "CPU times: user 2.26 s, sys: 246 ms, total: 2.51 s\n",
      "Wall time: 3.43 s\n"
     ]
    }
   ],
   "source": [
    "%%time\n",
    "train = pd.read_csv(\"../input/cat-in-the-dat/train.csv\")\n",
    "test = pd.read_csv(\"../input/cat-in-the-dat/test.csv\")\n",
    "\n",
    "print(train.shape)\n",
    "print(test.shape)"
   ]
  },
  {
   "cell_type": "code",
   "execution_count": 3,
   "metadata": {},
   "outputs": [
    {
     "name": "stdout",
     "output_type": "stream",
     "text": [
      "Index(['id', 'bin_0', 'bin_1', 'bin_2', 'bin_3', 'bin_4', 'nom_0', 'nom_1',\n",
      "       'nom_2', 'nom_3', 'nom_4', 'nom_5', 'nom_6', 'nom_7', 'nom_8', 'nom_9',\n",
      "       'ord_0', 'ord_1', 'ord_2', 'ord_3', 'ord_4', 'ord_5', 'day', 'month',\n",
      "       'target'],\n",
      "      dtype='object')\n"
     ]
    },
    {
     "data": {
      "text/html": [
       "<div>\n",
       "<style scoped>\n",
       "    .dataframe tbody tr th:only-of-type {\n",
       "        vertical-align: middle;\n",
       "    }\n",
       "\n",
       "    .dataframe tbody tr th {\n",
       "        vertical-align: top;\n",
       "    }\n",
       "\n",
       "    .dataframe thead th {\n",
       "        text-align: right;\n",
       "    }\n",
       "</style>\n",
       "<table border=\"1\" class=\"dataframe\">\n",
       "  <thead>\n",
       "    <tr style=\"text-align: right;\">\n",
       "      <th></th>\n",
       "      <th>id</th>\n",
       "      <th>bin_0</th>\n",
       "      <th>bin_1</th>\n",
       "      <th>bin_2</th>\n",
       "      <th>bin_3</th>\n",
       "      <th>bin_4</th>\n",
       "      <th>nom_0</th>\n",
       "      <th>nom_1</th>\n",
       "      <th>nom_2</th>\n",
       "      <th>nom_3</th>\n",
       "      <th>...</th>\n",
       "      <th>nom_9</th>\n",
       "      <th>ord_0</th>\n",
       "      <th>ord_1</th>\n",
       "      <th>ord_2</th>\n",
       "      <th>ord_3</th>\n",
       "      <th>ord_4</th>\n",
       "      <th>ord_5</th>\n",
       "      <th>day</th>\n",
       "      <th>month</th>\n",
       "      <th>target</th>\n",
       "    </tr>\n",
       "  </thead>\n",
       "  <tbody>\n",
       "    <tr>\n",
       "      <th>0</th>\n",
       "      <td>0</td>\n",
       "      <td>0</td>\n",
       "      <td>0</td>\n",
       "      <td>0</td>\n",
       "      <td>T</td>\n",
       "      <td>Y</td>\n",
       "      <td>Green</td>\n",
       "      <td>Triangle</td>\n",
       "      <td>Snake</td>\n",
       "      <td>Finland</td>\n",
       "      <td>...</td>\n",
       "      <td>2f4cb3d51</td>\n",
       "      <td>2</td>\n",
       "      <td>Grandmaster</td>\n",
       "      <td>Cold</td>\n",
       "      <td>h</td>\n",
       "      <td>D</td>\n",
       "      <td>kr</td>\n",
       "      <td>2</td>\n",
       "      <td>2</td>\n",
       "      <td>0</td>\n",
       "    </tr>\n",
       "    <tr>\n",
       "      <th>1</th>\n",
       "      <td>1</td>\n",
       "      <td>0</td>\n",
       "      <td>1</td>\n",
       "      <td>0</td>\n",
       "      <td>T</td>\n",
       "      <td>Y</td>\n",
       "      <td>Green</td>\n",
       "      <td>Trapezoid</td>\n",
       "      <td>Hamster</td>\n",
       "      <td>Russia</td>\n",
       "      <td>...</td>\n",
       "      <td>f83c56c21</td>\n",
       "      <td>1</td>\n",
       "      <td>Grandmaster</td>\n",
       "      <td>Hot</td>\n",
       "      <td>a</td>\n",
       "      <td>A</td>\n",
       "      <td>bF</td>\n",
       "      <td>7</td>\n",
       "      <td>8</td>\n",
       "      <td>0</td>\n",
       "    </tr>\n",
       "    <tr>\n",
       "      <th>2</th>\n",
       "      <td>2</td>\n",
       "      <td>0</td>\n",
       "      <td>0</td>\n",
       "      <td>0</td>\n",
       "      <td>F</td>\n",
       "      <td>Y</td>\n",
       "      <td>Blue</td>\n",
       "      <td>Trapezoid</td>\n",
       "      <td>Lion</td>\n",
       "      <td>Russia</td>\n",
       "      <td>...</td>\n",
       "      <td>ae6800dd0</td>\n",
       "      <td>1</td>\n",
       "      <td>Expert</td>\n",
       "      <td>Lava Hot</td>\n",
       "      <td>h</td>\n",
       "      <td>R</td>\n",
       "      <td>Jc</td>\n",
       "      <td>7</td>\n",
       "      <td>2</td>\n",
       "      <td>0</td>\n",
       "    </tr>\n",
       "    <tr>\n",
       "      <th>3</th>\n",
       "      <td>3</td>\n",
       "      <td>0</td>\n",
       "      <td>1</td>\n",
       "      <td>0</td>\n",
       "      <td>F</td>\n",
       "      <td>Y</td>\n",
       "      <td>Red</td>\n",
       "      <td>Trapezoid</td>\n",
       "      <td>Snake</td>\n",
       "      <td>Canada</td>\n",
       "      <td>...</td>\n",
       "      <td>8270f0d71</td>\n",
       "      <td>1</td>\n",
       "      <td>Grandmaster</td>\n",
       "      <td>Boiling Hot</td>\n",
       "      <td>i</td>\n",
       "      <td>D</td>\n",
       "      <td>kW</td>\n",
       "      <td>2</td>\n",
       "      <td>1</td>\n",
       "      <td>1</td>\n",
       "    </tr>\n",
       "    <tr>\n",
       "      <th>4</th>\n",
       "      <td>4</td>\n",
       "      <td>0</td>\n",
       "      <td>0</td>\n",
       "      <td>0</td>\n",
       "      <td>F</td>\n",
       "      <td>N</td>\n",
       "      <td>Red</td>\n",
       "      <td>Trapezoid</td>\n",
       "      <td>Lion</td>\n",
       "      <td>Canada</td>\n",
       "      <td>...</td>\n",
       "      <td>b164b72a7</td>\n",
       "      <td>1</td>\n",
       "      <td>Grandmaster</td>\n",
       "      <td>Freezing</td>\n",
       "      <td>a</td>\n",
       "      <td>R</td>\n",
       "      <td>qP</td>\n",
       "      <td>7</td>\n",
       "      <td>8</td>\n",
       "      <td>0</td>\n",
       "    </tr>\n",
       "  </tbody>\n",
       "</table>\n",
       "<p>5 rows × 25 columns</p>\n",
       "</div>"
      ],
      "text/plain": [
       "   id  bin_0  bin_1  bin_2 bin_3 bin_4  nom_0      nom_1    nom_2    nom_3  \\\n",
       "0   0      0      0      0     T     Y  Green   Triangle    Snake  Finland   \n",
       "1   1      0      1      0     T     Y  Green  Trapezoid  Hamster   Russia   \n",
       "2   2      0      0      0     F     Y   Blue  Trapezoid     Lion   Russia   \n",
       "3   3      0      1      0     F     Y    Red  Trapezoid    Snake   Canada   \n",
       "4   4      0      0      0     F     N    Red  Trapezoid     Lion   Canada   \n",
       "\n",
       "   ...      nom_9 ord_0        ord_1        ord_2 ord_3 ord_4  ord_5 day  \\\n",
       "0  ...  2f4cb3d51     2  Grandmaster         Cold     h     D     kr   2   \n",
       "1  ...  f83c56c21     1  Grandmaster          Hot     a     A     bF   7   \n",
       "2  ...  ae6800dd0     1       Expert     Lava Hot     h     R     Jc   7   \n",
       "3  ...  8270f0d71     1  Grandmaster  Boiling Hot     i     D     kW   2   \n",
       "4  ...  b164b72a7     1  Grandmaster     Freezing     a     R     qP   7   \n",
       "\n",
       "  month target  \n",
       "0     2      0  \n",
       "1     8      0  \n",
       "2     2      0  \n",
       "3     1      1  \n",
       "4     8      0  \n",
       "\n",
       "[5 rows x 25 columns]"
      ]
     },
     "execution_count": 3,
     "metadata": {},
     "output_type": "execute_result"
    }
   ],
   "source": [
    "print(train.columns)\n",
    "train.head()\n",
    "#ord_5를 두개의 컬럼으로 나누기!!!\n",
    "#ord_2를 온도로 매핑하기?? 일반적인 차가운 온도 or 1,2,3,4,5 같이 순서 있게"
   ]
  },
  {
   "cell_type": "code",
   "execution_count": 9,
   "metadata": {},
   "outputs": [
    {
     "data": {
      "text/plain": [
       "Index(['id', 'bin_0', 'bin_1', 'bin_2', 'bin_3', 'bin_4', 'nom_0', 'nom_1',\n",
       "       'nom_2', 'nom_3', 'nom_4', 'nom_5', 'nom_6', 'nom_7', 'nom_8', 'nom_9',\n",
       "       'ord_0', 'ord_1', 'ord_2', 'ord_3', 'ord_4', 'ord_5', 'day', 'month',\n",
       "       'target'],\n",
       "      dtype='object')"
      ]
     },
     "execution_count": 9,
     "metadata": {},
     "output_type": "execute_result"
    }
   ],
   "source": [
    "train.columns"
   ]
  },
  {
   "cell_type": "markdown",
   "metadata": {},
   "source": [
    "- ord_3는 알파벳 소문자 26개 중 15개 (a ~ o). m이 아주 적음\n",
    "- ord_4는 알파벳 대문자 26개. 역시 M이 아주 적음\n",
    "- day는 0~7. 6이 아주 적음\n",
    "- month는 1~12. 역시 6이 아주 적음\n",
    "- ord_5는 1,2번째 글자로 나뉨. 대소문자 알파벳이며 첫째 문자(ord_5a)는 모든 대소문자가 있고(52개), 두번째 문자(ord_5b)는 소문자 z만 빠진 51개\n",
    "    - 생각해 보니 z만 빠진 거 가지고 뭘 생성할 수 있나??"
   ]
  },
  {
   "cell_type": "code",
   "execution_count": 12,
   "metadata": {},
   "outputs": [
    {
     "name": "stdout",
     "output_type": "stream",
     "text": [
      "(15,)\n",
      "(26,)\n"
     ]
    }
   ],
   "source": [
    "for col in ['ord_3', 'ord_4']:\n",
    "    print(test[col].unique().shape)"
   ]
  },
  {
   "cell_type": "code",
   "execution_count": 31,
   "metadata": {},
   "outputs": [
    {
     "name": "stdout",
     "output_type": "stream",
     "text": [
      "(500000, 25)\n"
     ]
    }
   ],
   "source": [
    "# 데이터 합쳐서 Feature Engineering\n",
    "ddall = train.append(test, sort = False)\n",
    "num_train = len(train)\n",
    "print(ddall.shape)"
   ]
  },
  {
   "cell_type": "code",
   "execution_count": 32,
   "metadata": {},
   "outputs": [],
   "source": [
    "ddall['ord_5a'] = ddall['ord_5'].str[0]\n",
    "ddall['ord_5b'] = ddall['ord_5'].str[1]"
   ]
  },
  {
   "cell_type": "code",
   "execution_count": 33,
   "metadata": {},
   "outputs": [
    {
     "data": {
      "text/plain": [
       "<matplotlib.axes._subplots.AxesSubplot at 0x1a19f418d0>"
      ]
     },
     "execution_count": 33,
     "metadata": {},
     "output_type": "execute_result"
    },
    {
     "data": {
      "image/png": "[encoded data removed]",
      "text/plain": [
       "<Figure size 720x216 with 1 Axes>"
      ]
     },
     "metadata": {
      "needs_background": "light"
     },
     "output_type": "display_data"
    }
   ],
   "source": [
    "# 그래프 그리기 -> ord_5 a,b는 딱히 분포의 편차가 보이진 않음.\n",
    "plt.figure(figsize = (10, 3))\n",
    "sns.countplot(ddall['ord_5a'].sort_values())"
   ]
  },
  {
   "cell_type": "code",
   "execution_count": 34,
   "metadata": {},
   "outputs": [
    {
     "data": {
      "text/plain": [
       "<matplotlib.axes._subplots.AxesSubplot at 0x1a19ed7f28>"
      ]
     },
     "execution_count": 34,
     "metadata": {},
     "output_type": "execute_result"
    },
    {
     "data": {
      "image/png": "[encoded data removed]",
      "text/plain": [
       "<Figure size 720x216 with 1 Axes>"
      ]
     },
     "metadata": {
      "needs_background": "light"
     },
     "output_type": "display_data"
    }
   ],
   "source": [
    "plt.figure(figsize = (10, 3))\n",
    "sns.countplot(ddall['ord_5b'].sort_values())"
   ]
  },
  {
   "cell_type": "code",
   "execution_count": 35,
   "metadata": {},
   "outputs": [
    {
     "data": {
      "text/plain": [
       "(500000, 27)"
      ]
     },
     "execution_count": 35,
     "metadata": {},
     "output_type": "execute_result"
    }
   ],
   "source": [
    "ddall.shape"
   ]
  },
  {
   "cell_type": "code",
   "execution_count": 36,
   "metadata": {},
   "outputs": [],
   "source": [
    "# 드랍할 칼럼 목록\n",
    "drop_cols = ['ord_5']"
   ]
  },
  {
   "cell_type": "code",
   "execution_count": 37,
   "metadata": {},
   "outputs": [
    {
     "name": "stdout",
     "output_type": "stream",
     "text": [
      "nom_5 XOR 값 수: 0\n",
      "nom_6 XOR 값 수: 0\n",
      "nom_7 XOR 값 수: 1\n",
      "nom_8 XOR 값 수: 9\n",
      "nom_9 XOR 값 수: 316\n"
     ]
    }
   ],
   "source": [
    "# train, test 모두에 들어있지 않는 값을 single value('xor')로 변경\n",
    "# 근데 왜 이 칼럼만 해당하지??\n",
    "for col in ['nom_5', 'nom_6', 'nom_7', 'nom_8', 'nom_9']:\n",
    "    train_vals = set(train[col].unique())\n",
    "    test_vals = set(test[col].unique())\n",
    "    \n",
    "    # ^ 연산 -> XOR(같으면 0, 다르면 1). 교집합 제외한 나머지가 남음\n",
    "    xor_cat_vals = train_vals ^ test_vals\n",
    "    print(col, \"XOR 값 수:\", len(xor_cat_vals))\n",
    "    if xor_cat_vals: # 값이 있으면 loop 안으로 들어감. 참고해 두기!!\n",
    "        ddall.loc[ddall[col].isin(xor_cat_vals), col] = 'xor'"
   ]
  },
  {
   "cell_type": "code",
   "execution_count": 38,
   "metadata": {},
   "outputs": [],
   "source": []
  },
  {
   "cell_type": "code",
   "execution_count": 38,
   "metadata": {},
   "outputs": [],
   "source": []
  },
  {
   "cell_type": "code",
   "execution_count": 54,
   "metadata": {},
   "outputs": [
    {
     "name": "stdout",
     "output_type": "stream",
     "text": [
      "CPU times: user 14.9 s, sys: 991 ms, total: 15.8 s\n",
      "Wall time: 13 s\n"
     ]
    }
   ],
   "source": [
    "%%time\n",
    "# One-Hot Encoding\n",
    "X = ddall[ddall.columns.difference(['id', 'target'] + drop_cols)] #해당 칼럼들을 뺀 것.\n",
    "# 아래 6개 칼럼은 원핫 안함. 왜 이것들만??\n",
    "X_oh = X[X.columns.difference(['ord_1', 'ord_4', 'ord_5a', 'ord_5b', 'day', 'month'])]\n",
    "oh1 = pd.get_dummies(X_oh, columns = X_oh.columns, drop_first=True, sparse=True) #이거 sparse 안하면 실행시간 오래 걸림.\n",
    "# 값 개수가 많은 nom_9도 원핫??"
   ]
  },
  {
   "cell_type": "code",
   "execution_count": 56,
   "metadata": {},
   "outputs": [
    {
     "name": "stdout",
     "output_type": "stream",
     "text": [
      "<class 'pandas.core.sparse.frame.SparseDataFrame'>\n",
      "(500000, 15969)\n",
      "Index(['bin_0_1', 'bin_1_1', 'bin_2_1', 'bin_3_T', 'bin_4_Y', 'nom_0_Green',\n",
      "       'nom_0_Red', 'nom_1_Polygon', 'nom_1_Square', 'nom_1_Star'],\n",
      "      dtype='object')\n"
     ]
    }
   ],
   "source": [
    "print(type(oh1)) # SparseDataFrame\n",
    "print(oh1.shape)\n",
    "print(oh1.columns[:10])"
   ]
  },
  {
   "cell_type": "markdown",
   "metadata": {},
   "source": [
    "### Thermometer Encoder"
   ]
  },
  {
   "cell_type": "code",
   "execution_count": 40,
   "metadata": {},
   "outputs": [],
   "source": [
    "from sklearn.base import TransformerMixin\n",
    "from itertools import repeat"
   ]
  },
  {
   "cell_type": "code",
   "execution_count": 45,
   "metadata": {},
   "outputs": [],
   "source": [
    "class ThermometerEncoder(TransformerMixin):\n",
    "    def __init__(self, sort_key=None):\n",
    "        self.sort_key = sort_key\n",
    "        self.value_map_ = None\n",
    "    \n",
    "    def fit(self, X, y=None):\n",
    "        self.value_map_ = {val: i for i, val in enumerate(sorted(X.unique(), key=self.sort_key))}\n",
    "        return self\n",
    "    \n",
    "    def transform(self, X, y=None):\n",
    "        values = X.map(self.value_map_)\n",
    "        \n",
    "        possible_values = sorted(self.value_map_.values())\n",
    "        \n",
    "        idx1 = []\n",
    "        idx2 = []\n",
    "        \n",
    "        all_indices = np.arange(len(X))\n",
    "        \n",
    "        for idx, val in enumerate(possible_values[:-1]):\n",
    "            new_idxs = all_indices[values > val]\n",
    "            idx1.extend(new_idxs)\n",
    "            idx2.extend(repeat(idx, len(new_idxs)))\n",
    "            \n",
    "        result = scipy.sparse.coo_matrix(\n",
    "            ([1] * len(idx1), (idx1, idx2)), \n",
    "            shape=(len(X), len(possible_values)), dtype=\"int8\")\n",
    "            \n",
    "        return result"
   ]
  },
  {
   "cell_type": "code",
   "execution_count": 46,
   "metadata": {},
   "outputs": [
    {
     "name": "stdout",
     "output_type": "stream",
     "text": [
      "Novice         210877\n",
      "Grandmaster    129143\n",
      "Contributor     71516\n",
      "Master          46755\n",
      "Expert          41709\n",
      "Name: ord_1, dtype: int64\n",
      "Freezing       166065\n",
      "Lava Hot       106649\n",
      "Boiling Hot    101263\n",
      "Cold            56434\n",
      "Hot             36744\n",
      "Warm            32845\n",
      "Name: ord_2, dtype: int64\n"
     ]
    }
   ],
   "source": [
    "for col in ['ord_1', 'ord_2']:\n",
    "    print(ddall[col].value_counts())"
   ]
  },
  {
   "cell_type": "code",
   "execution_count": 47,
   "metadata": {},
   "outputs": [
    {
     "name": "stdout",
     "output_type": "stream",
     "text": [
      "CPU times: user 12.7 s, sys: 1 s, total: 13.7 s\n",
      "Wall time: 14 s\n"
     ]
    }
   ],
   "source": [
    "%%time\n",
    "thermos = []\n",
    "for col in [\"ord_1\", \"ord_2\", \"ord_3\", \"ord_4\", \"ord_5a\", \"day\", \"month\"]:\n",
    "    if col == 'ord_1':\n",
    "        sort_key = ['Novice', 'Contributor', 'Expert', 'Master', 'Grandmaster'].index\n",
    "    elif col == 'ord_2':\n",
    "        sort_key = ['Freezing', 'Cold', 'Warm', 'Hot', 'Boiling Hot', 'Lava Hot'].index\n",
    "    elif col in ['ord_3', 'ord_4', 'ord_5a', 'ord_5b']: #알파벳 데이터. 왜 ord_5b는 안하지?? -> 5b도 함.\n",
    "        sort_key = str\n",
    "    elif col in ['day', 'month']:\n",
    "        sort_key = int\n",
    "    else:\n",
    "        raise ValueError(col)\n",
    "        \n",
    "    encoder = ThermometerEncoder(sort_key=sort_key)\n",
    "    thermos.append(encoder.fit_transform(X[col]))"
   ]
  },
  {
   "cell_type": "code",
   "execution_count": 53,
   "metadata": {},
   "outputs": [
    {
     "data": {
      "text/plain": [
       "[<500000x5 sparse matrix of type '<class 'numpy.int8'>'\n",
       " \twith 811771 stored elements in COOrdinate format>,\n",
       " <500000x6 sparse matrix of type '<class 'numpy.int8'>'\n",
       " \twith 1170653 stored elements in COOrdinate format>,\n",
       " <500000x15 sparse matrix of type '<class 'numpy.int8'>'\n",
       " \twith 3306674 stored elements in COOrdinate format>,\n",
       " <500000x26 sparse matrix of type '<class 'numpy.int8'>'\n",
       " \twith 6398564 stored elements in COOrdinate format>,\n",
       " <500000x52 sparse matrix of type '<class 'numpy.int8'>'\n",
       " \twith 12734899 stored elements in COOrdinate format>,\n",
       " <500000x7 sparse matrix of type '<class 'numpy.int8'>'\n",
       " \twith 1005159 stored elements in COOrdinate format>,\n",
       " <500000x12 sparse matrix of type '<class 'numpy.int8'>'\n",
       " \twith 2386725 stored elements in COOrdinate format>]"
      ]
     },
     "execution_count": 53,
     "metadata": {},
     "output_type": "execute_result"
    }
   ],
   "source": [
    "thermos"
   ]
  },
  {
   "cell_type": "markdown",
   "metadata": {},
   "source": [
    "### 데이터 결합"
   ]
  },
  {
   "cell_type": "code",
   "execution_count": 52,
   "metadata": {},
   "outputs": [
    {
     "name": "stdout",
     "output_type": "stream",
     "text": [
      "(500000, 27)\n",
      "(500000, 15969)\n"
     ]
    }
   ],
   "source": [
    "print(ddall.shape)\n",
    "print(oh1.shape)"
   ]
  },
  {
   "cell_type": "code",
   "execution_count": 64,
   "metadata": {},
   "outputs": [
    {
     "data": {
      "text/plain": [
       "(500000, 15969)"
      ]
     },
     "execution_count": 64,
     "metadata": {},
     "output_type": "execute_result"
    }
   ],
   "source": [
    "oh1.to_coo().shape"
   ]
  },
  {
   "cell_type": "code",
   "execution_count": 66,
   "metadata": {},
   "outputs": [
    {
     "data": {
      "text/plain": [
       "<500000x16092 sparse matrix of type '<class 'numpy.int16'>'\n",
       "\twith 34308551 stored elements in Compressed Sparse Row format>"
      ]
     },
     "metadata": {},
     "output_type": "display_data"
    }
   ],
   "source": [
    "ohc = scipy.sparse.hstack([oh1.to_coo()] + thermos).tocsr()\n",
    "display(ohc)"
   ]
  },
  {
   "cell_type": "code",
   "execution_count": 68,
   "metadata": {},
   "outputs": [
    {
     "name": "stdout",
     "output_type": "stream",
     "text": [
      "(300000, 16092)\n",
      "(200000, 16092)\n",
      "(300000,)\n"
     ]
    }
   ],
   "source": [
    "X_train = ohc[:num_train]\n",
    "X_test = ohc[num_train:]\n",
    "y_train = train['target'].values\n",
    "\n",
    "print(X_train.shape) #아까 X 걸러내는 과정에서 target 칼럼 뺐음 -> test와 차원이 같음\n",
    "print(X_test.shape)\n",
    "print(y_train.shape)"
   ]
  },
  {
   "cell_type": "markdown",
   "metadata": {},
   "source": [
    "### Modeling\n",
    "- 뭐 때문에 0.803으로 오른거지??"
   ]
  },
  {
   "cell_type": "code",
   "execution_count": 72,
   "metadata": {},
   "outputs": [
    {
     "name": "stdout",
     "output_type": "stream",
     "text": [
      "[0 0 0 ... 1 1 0]\n",
      "0    0\n",
      "1    0\n",
      "2    0\n",
      "3    1\n",
      "4    0\n",
      "Name: target, dtype: int64\n",
      "299995    0\n",
      "299996    0\n",
      "299997    1\n",
      "299998    1\n",
      "299999    0\n",
      "Name: target, dtype: int64\n"
     ]
    }
   ],
   "source": [
    "print(y_train)\n",
    "print(train['target'].head())\n",
    "print(train['target'].tail())"
   ]
  },
  {
   "cell_type": "code",
   "execution_count": 73,
   "metadata": {},
   "outputs": [
    {
     "name": "stdout",
     "output_type": "stream",
     "text": [
      "Started lr fold 1/5\n",
      "Train LR\n"
     ]
    },
    {
     "name": "stderr",
     "output_type": "stream",
     "text": [
      "/Users/qpdev/anaconda3/lib/python3.7/site-packages/sklearn/linear_model/logistic.py:947: ConvergenceWarning: lbfgs failed to converge. Increase the number of iterations.\n",
      "  \"of iterations.\", ConvergenceWarning)\n"
     ]
    },
    {
     "name": "stdout",
     "output_type": "stream",
     "text": [
      "Predict 1/2\n",
      "Predict 2/2\n",
      "lr cv score 1: 0.7956224780646701\n",
      "Started lr fold 2/5\n",
      "Train LR\n"
     ]
    },
    {
     "name": "stderr",
     "output_type": "stream",
     "text": [
      "/Users/qpdev/anaconda3/lib/python3.7/site-packages/sklearn/linear_model/logistic.py:947: ConvergenceWarning: lbfgs failed to converge. Increase the number of iterations.\n",
      "  \"of iterations.\", ConvergenceWarning)\n"
     ]
    },
    {
     "name": "stdout",
     "output_type": "stream",
     "text": [
      "Predict 1/2\n",
      "Predict 2/2\n",
      "lr cv score 2: 0.7968229017038533\n",
      "Started lr fold 3/5\n",
      "Train LR\n"
     ]
    },
    {
     "name": "stderr",
     "output_type": "stream",
     "text": [
      "/Users/qpdev/anaconda3/lib/python3.7/site-packages/sklearn/linear_model/logistic.py:947: ConvergenceWarning: lbfgs failed to converge. Increase the number of iterations.\n",
      "  \"of iterations.\", ConvergenceWarning)\n"
     ]
    },
    {
     "name": "stdout",
     "output_type": "stream",
     "text": [
      "Predict 1/2\n",
      "Predict 2/2\n",
      "lr cv score 3: 0.8038359687740123\n",
      "Started lr fold 4/5\n",
      "Train LR\n"
     ]
    },
    {
     "name": "stderr",
     "output_type": "stream",
     "text": [
      "/Users/qpdev/anaconda3/lib/python3.7/site-packages/sklearn/linear_model/logistic.py:947: ConvergenceWarning: lbfgs failed to converge. Increase the number of iterations.\n",
      "  \"of iterations.\", ConvergenceWarning)\n"
     ]
    },
    {
     "name": "stdout",
     "output_type": "stream",
     "text": [
      "Predict 1/2\n",
      "Predict 2/2\n",
      "lr cv score 4: 0.7979946884389284\n",
      "Started lr fold 5/5\n",
      "Train LR\n",
      "Predict 1/2\n",
      "Predict 2/2\n",
      "lr cv score 5: 0.7989949200776898\n",
      "lr cv scores : [0.7956224780646701, 0.7968229017038533, 0.8038359687740123, 0.7979946884389284, 0.7989949200776898]\n",
      "lr cv mean score : 0.7986541914118309\n",
      "lr cv std score : 0.0028265443438983406\n"
     ]
    },
    {
     "name": "stderr",
     "output_type": "stream",
     "text": [
      "/Users/qpdev/anaconda3/lib/python3.7/site-packages/sklearn/linear_model/logistic.py:947: ConvergenceWarning: lbfgs failed to converge. Increase the number of iterations.\n",
      "  \"of iterations.\", ConvergenceWarning)\n"
     ]
    }
   ],
   "source": [
    "%%time\n",
    "from sklearn.model_selection import KFold\n",
    "from sklearn.metrics import roc_auc_score as auc\n",
    "from sklearn.linear_model import LogisticRegression\n",
    "\n",
    "# Model\n",
    "def run_cv_model(train, test, target, model_fn, params={}, eval_fn=None, label='model'):\n",
    "    kf = KFold(n_splits=5)\n",
    "    fold_splits = kf.split(train, target)\n",
    "    cv_scores = []\n",
    "    pred_full_test = 0\n",
    "    pred_train = np.zeros((train.shape[0]))\n",
    "    i = 1\n",
    "    for dev_index, val_index in fold_splits:\n",
    "        print('Started ' + label + ' fold ' + str(i) + '/5')\n",
    "        dev_X, val_X = train[dev_index], train[val_index]\n",
    "        dev_y, val_y = target[dev_index], target[val_index]\n",
    "        params2 = params.copy()\n",
    "        pred_val_y, pred_test_y = model_fn(dev_X, dev_y, val_X, val_y, test, params2)\n",
    "        pred_full_test = pred_full_test + pred_test_y\n",
    "        pred_train[val_index] = pred_val_y\n",
    "        if eval_fn is not None:\n",
    "            cv_score = eval_fn(val_y, pred_val_y)\n",
    "            cv_scores.append(cv_score)\n",
    "            print(label + ' cv score {}: {}'.format(i, cv_score))\n",
    "        i += 1\n",
    "    print('{} cv scores : {}'.format(label, cv_scores))\n",
    "    print('{} cv mean score : {}'.format(label, np.mean(cv_scores)))\n",
    "    print('{} cv std score : {}'.format(label, np.std(cv_scores)))\n",
    "    pred_full_test = pred_full_test / 5.0\n",
    "    results = {'label': label,\n",
    "              'train': pred_train, 'test': pred_full_test,\n",
    "              'cv': cv_scores}\n",
    "    return results\n",
    "\n",
    "\n",
    "def runLR(train_X, train_y, test_X, test_y, test_X2, params):\n",
    "    print('Train LR')\n",
    "    model = LogisticRegression(**params)\n",
    "    model.fit(train_X, train_y)\n",
    "    print('Predict 1/2')\n",
    "    pred_test_y = model.predict_proba(test_X)[:, 1]\n",
    "    print('Predict 2/2')\n",
    "    pred_test_y2 = model.predict_proba(test_X2)[:, 1]\n",
    "    return pred_test_y, pred_test_y2\n",
    "\n",
    "lr_params = {'solver': 'lbfgs', 'C': 0.1}\n",
    "results = run_cv_model(X_train, X_test, y_train, runLR, lr_params, auc, 'lr')"
   ]
  },
  {
   "cell_type": "code",
   "execution_count": 76,
   "metadata": {},
   "outputs": [
    {
     "data": {
      "text/plain": [
       "{'label': 'lr',\n",
       " 'train': array([0.31157927, 0.12845565, 0.07665124, ..., 0.50286351, 0.6493029 ,\n",
       "        0.23419095]),\n",
       " 'test': array([0.37474169, 0.75683844, 0.14630245, ..., 0.27344272, 0.56226547,\n",
       "        0.19410298]),\n",
       " 'cv': [0.7956224780646701,\n",
       "  0.7968229017038533,\n",
       "  0.8038359687740123,\n",
       "  0.7979946884389284,\n",
       "  0.7989949200776898]}"
      ]
     },
     "execution_count": 76,
     "metadata": {},
     "output_type": "execute_result"
    }
   ],
   "source": [
    "results"
   ]
  },
  {
   "cell_type": "code",
   "execution_count": 79,
   "metadata": {},
   "outputs": [
    {
     "name": "stdout",
     "output_type": "stream",
     "text": [
      "CPU times: user 848 ms, sys: 31.9 ms, total: 880 ms\n",
      "Wall time: 978 ms\n"
     ]
    }
   ],
   "source": [
    "%%time\n",
    "submission = pd.DataFrame({'id': test['id'], 'target': results['test']})\n",
    "submission.to_csv(\"../output/cat_chal/1104_submission_kfold.csv\", index = False)"
   ]
  },
  {
   "cell_type": "code",
   "execution_count": null,
   "metadata": {},
   "outputs": [],
   "source": []
  }
 ],
 "metadata": {
  "kernelspec": {
   "display_name": "Python 3",
   "language": "python",
   "name": "python3"
  },
  "language_info": {
   "codemirror_mode": {
    "name": "ipython",
    "version": 3
   },
   "file_extension": ".py",
   "mimetype": "text/x-python",
   "name": "python",
   "nbconvert_exporter": "python",
   "pygments_lexer": "ipython3",
   "version": "3.7.3"
  }
 },
 "nbformat": 4,
 "nbformat_minor": 4
}
