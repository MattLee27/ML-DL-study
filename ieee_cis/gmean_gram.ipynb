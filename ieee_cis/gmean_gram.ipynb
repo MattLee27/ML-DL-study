{
 "cells": [
  {
   "cell_type": "markdown",
   "metadata": {},
   "source": [
    "## 지금까지 했던 걸로 GMEAN 해 보기\n",
    "- [GMEAN of low correlation (LB: 0.952x)](https://www.kaggle.com/paulorzp/gmean-of-low-correlation-lb-0-952x)\n",
    "- 결과: 0.9476. single model로 가장 높았던 것과 같음.\n",
    "- correlation이 너무 높은 결과들을 묶음\n",
    "- single model 더 만들어 보기"
   ]
  },
  {
   "cell_type": "code",
   "execution_count": 1,
   "metadata": {},
   "outputs": [],
   "source": [
    "import warnings\n",
    "warnings.filterwarnings(\"ignore\")\n",
    "\n",
    "import numpy as np # linear algebra\n",
    "import pandas as pd # data processing, CSV file I/O (e.g. pd.read_csv)\n",
    "import glob\n",
    "\n",
    "from scipy.stats import describe\n",
    "import seaborn as sns\n",
    "import matplotlib.pyplot as plt\n",
    "%matplotlib inline"
   ]
  },
  {
   "cell_type": "code",
   "execution_count": 2,
   "metadata": {},
   "outputs": [
    {
     "data": {
      "text/plain": [
       "['0902_submission.csv',\n",
       " '0904_allfeature_submission.csv',\n",
       " '0910_submission.csv',\n",
       " '0916_top50_submission.csv',\n",
       " '0917_submission.csv',\n",
       " 'feature_importances.csv',\n",
       " 'feature_importances_new.csv',\n",
       " 'first_submission.csv',\n",
       " 'gb2_submission.csv',\n",
       " 'stack_gmean.csv',\n",
       " 'submission.csv',\n",
       " 'xgver_submission.csv']"
      ]
     },
     "execution_count": 2,
     "metadata": {},
     "output_type": "execute_result"
    }
   ],
   "source": [
    "LABELS = [\"isFraud\"]\n",
    "all_files = glob.glob(\"*.csv\")\n",
    "all_files"
   ]
  },
  {
   "cell_type": "code",
   "execution_count": 3,
   "metadata": {},
   "outputs": [],
   "source": [
    "top_list = ['0902_submission.csv', #0.9447\n",
    "            '0904_allfeature_submission.csv', #0.9453\n",
    "            '0910_submission.csv', #0.9461\n",
    "            '0917_submission.csv', #0.9476\n",
    "            'gb2_submission.csv'] #0.9351\n",
    "scores = [0.9447, 0.9453, 0.9461, 9476, 9351]"
   ]
  },
  {
   "cell_type": "code",
   "execution_count": 4,
   "metadata": {},
   "outputs": [],
   "source": [
    "outs = [pd.read_csv(file, index_col = 0) for file in top_list]\n",
    "concat_sub = pd.concat(outs, axis = 1)"
   ]
  },
  {
   "cell_type": "code",
   "execution_count": 5,
   "metadata": {},
   "outputs": [],
   "source": [
    "cols = list(map(lambda x: \"m\" + str(x), range(len(concat_sub.columns))))\n",
    "concat_sub.columns = cols"
   ]
  },
  {
   "cell_type": "code",
   "execution_count": 6,
   "metadata": {},
   "outputs": [
    {
     "data": {
      "text/plain": [
       "array([[False, False, False, False, False],\n",
       "       [False, False, False, False, False],\n",
       "       [False, False, False, False, False],\n",
       "       [False, False, False, False, False],\n",
       "       [False, False, False, False, False]])"
      ]
     },
     "execution_count": 6,
     "metadata": {},
     "output_type": "execute_result"
    }
   ],
   "source": [
    "corr = concat_sub.corr()\n",
    "np.zeros_like(corr, dtype=np.bool)"
   ]
  },
  {
   "cell_type": "code",
   "execution_count": 7,
   "metadata": {},
   "outputs": [
    {
     "data": {
      "text/plain": [
       "array([[ True,  True,  True,  True,  True],\n",
       "       [False,  True,  True,  True,  True],\n",
       "       [False, False,  True,  True,  True],\n",
       "       [False, False, False,  True,  True],\n",
       "       [False, False, False, False,  True]])"
      ]
     },
     "execution_count": 7,
     "metadata": {},
     "output_type": "execute_result"
    }
   ],
   "source": [
    "mask = np.zeros_like(corr, dtype=np.bool)\n",
    "mask[np.triu_indices_from(mask)] = True\n",
    "mask"
   ]
  },
  {
   "cell_type": "code",
   "execution_count": 8,
   "metadata": {},
   "outputs": [
    {
     "data": {
      "text/plain": [
       "<matplotlib.axes._subplots.AxesSubplot at 0x1b3fdbcd6a0>"
      ]
     },
     "execution_count": 8,
     "metadata": {},
     "output_type": "execute_result"
    },
    {
     "data": {
      "image/png": "[encoded data removed]",
      "text/plain": [
       "<Figure size 504x504 with 2 Axes>"
      ]
     },
     "metadata": {
      "needs_background": "light"
     },
     "output_type": "display_data"
    }
   ],
   "source": [
    "f, ax = plt.subplots(figsize = (len(cols) + 2, len(cols) + 2))\n",
    "sns.heatmap(corr, mask = mask, cmap='prism', center=0, linewidths=1,\n",
    "           annot=True, fmt='.4f', cbar_kws={\"shrink\": .2})"
   ]
  },
  {
   "cell_type": "code",
   "execution_count": 9,
   "metadata": {},
   "outputs": [
    {
     "data": {
      "text/plain": [
       "m4    0.974469\n",
       "m3    0.988250\n",
       "m2    0.990026\n",
       "m0    0.990235\n",
       "m1    0.990475\n",
       "dtype: float64"
      ]
     },
     "execution_count": 9,
     "metadata": {},
     "output_type": "execute_result"
    }
   ],
   "source": [
    "# 원래 코드에선 corr 가장 낮은 6개를 추림.\n",
    "mean_corr = corr.mean().sort_values(ascending = True)\n",
    "mean_corr"
   ]
  },
  {
   "cell_type": "markdown",
   "metadata": {},
   "source": [
    "### Gmean of models with low average correlation"
   ]
  },
  {
   "cell_type": "code",
   "execution_count": 10,
   "metadata": {},
   "outputs": [],
   "source": [
    "m_gmean1 = 0\n",
    "for n in mean_corr.index:\n",
    "    m_gmean1 += np.log(concat_sub[n])\n",
    "m_gmean1 = np.exp(m_gmean1 / len(mean_corr))"
   ]
  },
  {
   "cell_type": "code",
   "execution_count": 11,
   "metadata": {},
   "outputs": [
    {
     "data": {
      "text/plain": [
       "3"
      ]
     },
     "execution_count": 11,
     "metadata": {},
     "output_type": "execute_result"
    }
   ],
   "source": [
    "rank = np.tril(corr.values, -1)\n",
    "rank[rank < 0.92] = 1\n",
    "m = (rank > 0).sum() - (rank > 0.97).sum()\n",
    "m"
   ]
  },
  {
   "cell_type": "code",
   "execution_count": 12,
   "metadata": {},
   "outputs": [],
   "source": [
    "m_gmean2, s = 0, 0\n",
    "for n in range(m):\n",
    "    mx = np.unravel_index(rank.argmin(), rank.shape)\n",
    "    w = (m - n) / m\n",
    "    m_gmean2 += w * (np.log(concat_sub.iloc[:, mx[0]]) + np.log(\n",
    "    concat_sub.iloc[:, mx[1]])) /2\n",
    "    s += w\n",
    "    rank[mx] = 1\n",
    "m_gmean2 = np.exp(m_gmean2 / s)"
   ]
  },
  {
   "cell_type": "markdown",
   "metadata": {},
   "source": [
    "## Top Blends weighted by score"
   ]
  },
  {
   "cell_type": "code",
   "execution_count": 13,
   "metadata": {},
   "outputs": [],
   "source": [
    "top_mean = 0\n",
    "s = 0\n",
    "for n in range(concat_sub.shape[1]):\n",
    "    # 1. 각 열의 데이터(각 submission 결과)에 score를 곱함. 왜??\n",
    "    top_mean += concat_sub.iloc[:, n] * scores[n]\n",
    "    # 2. score들의 합\n",
    "    s += scores[n]\n",
    "top_mean /= s"
   ]
  },
  {
   "cell_type": "code",
   "execution_count": 14,
   "metadata": {},
   "outputs": [
    {
     "data": {
      "text/plain": [
       "count    506691.000000\n",
       "mean          0.025508\n",
       "std           0.114004\n",
       "min           0.000151\n",
       "25%           0.001355\n",
       "50%           0.003033\n",
       "75%           0.008117\n",
       "max           0.998107\n",
       "Name: m0, dtype: float64"
      ]
     },
     "execution_count": 14,
     "metadata": {},
     "output_type": "execute_result"
    }
   ],
   "source": [
    "top_mean.describe()"
   ]
  },
  {
   "cell_type": "markdown",
   "metadata": {},
   "source": [
    "### GMEAN final stacking"
   ]
  },
  {
   "cell_type": "code",
   "execution_count": 15,
   "metadata": {},
   "outputs": [
    {
     "data": {
      "text/plain": [
       "DescribeResult(nobs=506691, minmax=(0.0001429181409458463, 0.998110480577958), mean=0.024681324412131264, variance=0.012787822938357825, skewness=7.12431831206762, kurtosis=52.30012771252893)"
      ]
     },
     "execution_count": 15,
     "metadata": {},
     "output_type": "execute_result"
    }
   ],
   "source": [
    "# 0.3, 0.2, 0.5 계수들은 무엇??\n",
    "m_gmean = np.exp(0.3 * np.log(m_gmean1) + 0.2 * np.log(m_gmean2) + \\\n",
    "                0.5 * np.log(top_mean))\n",
    "describe(m_gmean)"
   ]
  },
  {
   "cell_type": "code",
   "execution_count": 16,
   "metadata": {},
   "outputs": [],
   "source": [
    "concat_sub['isFraud'] = m_gmean\n",
    "concat_sub[['isFraud']].to_csv('stack_gmean.csv')\n",
    "#이렇게 해야 index(TransactionID) 까지 저장됨!! 참고해 두기"
   ]
  },
  {
   "cell_type": "code",
   "execution_count": 19,
   "metadata": {},
   "outputs": [
    {
     "data": {
      "text/html": [
       "<div>\n",
       "<style scoped>\n",
       "    .dataframe tbody tr th:only-of-type {\n",
       "        vertical-align: middle;\n",
       "    }\n",
       "\n",
       "    .dataframe tbody tr th {\n",
       "        vertical-align: top;\n",
       "    }\n",
       "\n",
       "    .dataframe thead th {\n",
       "        text-align: right;\n",
       "    }\n",
       "</style>\n",
       "<table border=\"1\" class=\"dataframe\">\n",
       "  <thead>\n",
       "    <tr style=\"text-align: right;\">\n",
       "      <th></th>\n",
       "      <th>isFraud</th>\n",
       "    </tr>\n",
       "    <tr>\n",
       "      <th>TransactionID</th>\n",
       "      <th></th>\n",
       "    </tr>\n",
       "  </thead>\n",
       "  <tbody>\n",
       "    <tr>\n",
       "      <th>3663549</th>\n",
       "      <td>0.000941</td>\n",
       "    </tr>\n",
       "    <tr>\n",
       "      <th>3663550</th>\n",
       "      <td>0.001438</td>\n",
       "    </tr>\n",
       "    <tr>\n",
       "      <th>3663551</th>\n",
       "      <td>0.001765</td>\n",
       "    </tr>\n",
       "    <tr>\n",
       "      <th>3663552</th>\n",
       "      <td>0.001218</td>\n",
       "    </tr>\n",
       "    <tr>\n",
       "      <th>3663553</th>\n",
       "      <td>0.001334</td>\n",
       "    </tr>\n",
       "  </tbody>\n",
       "</table>\n",
       "</div>"
      ],
      "text/plain": [
       "                isFraud\n",
       "TransactionID          \n",
       "3663549        0.000941\n",
       "3663550        0.001438\n",
       "3663551        0.001765\n",
       "3663552        0.001218\n",
       "3663553        0.001334"
      ]
     },
     "execution_count": 19,
     "metadata": {},
     "output_type": "execute_result"
    }
   ],
   "source": [
    "concat_sub[['isFraud']].head()"
   ]
  },
  {
   "cell_type": "code",
   "execution_count": 21,
   "metadata": {},
   "outputs": [
    {
     "data": {
      "text/html": [
       "<div>\n",
       "<style scoped>\n",
       "    .dataframe tbody tr th:only-of-type {\n",
       "        vertical-align: middle;\n",
       "    }\n",
       "\n",
       "    .dataframe tbody tr th {\n",
       "        vertical-align: top;\n",
       "    }\n",
       "\n",
       "    .dataframe thead th {\n",
       "        text-align: right;\n",
       "    }\n",
       "</style>\n",
       "<table border=\"1\" class=\"dataframe\">\n",
       "  <thead>\n",
       "    <tr style=\"text-align: right;\">\n",
       "      <th></th>\n",
       "      <th>isFraud</th>\n",
       "    </tr>\n",
       "    <tr>\n",
       "      <th>TransactionID</th>\n",
       "      <th></th>\n",
       "    </tr>\n",
       "  </thead>\n",
       "  <tbody>\n",
       "    <tr>\n",
       "      <th>3663549</th>\n",
       "      <td>0.000280</td>\n",
       "    </tr>\n",
       "    <tr>\n",
       "      <th>3663550</th>\n",
       "      <td>0.000618</td>\n",
       "    </tr>\n",
       "    <tr>\n",
       "      <th>3663551</th>\n",
       "      <td>0.000847</td>\n",
       "    </tr>\n",
       "    <tr>\n",
       "      <th>3663552</th>\n",
       "      <td>0.000660</td>\n",
       "    </tr>\n",
       "    <tr>\n",
       "      <th>3663553</th>\n",
       "      <td>0.000621</td>\n",
       "    </tr>\n",
       "  </tbody>\n",
       "</table>\n",
       "</div>"
      ],
      "text/plain": [
       "                isFraud\n",
       "TransactionID          \n",
       "3663549        0.000280\n",
       "3663550        0.000618\n",
       "3663551        0.000847\n",
       "3663552        0.000660\n",
       "3663553        0.000621"
      ]
     },
     "execution_count": 21,
     "metadata": {},
     "output_type": "execute_result"
    }
   ],
   "source": [
    "outs[3].head()"
   ]
  },
  {
   "cell_type": "code",
   "execution_count": 33,
   "metadata": {},
   "outputs": [
    {
     "data": {
      "text/html": [
       "<div>\n",
       "<style scoped>\n",
       "    .dataframe tbody tr th:only-of-type {\n",
       "        vertical-align: middle;\n",
       "    }\n",
       "\n",
       "    .dataframe tbody tr th {\n",
       "        vertical-align: top;\n",
       "    }\n",
       "\n",
       "    .dataframe thead th {\n",
       "        text-align: right;\n",
       "    }\n",
       "</style>\n",
       "<table border=\"1\" class=\"dataframe\">\n",
       "  <thead>\n",
       "    <tr style=\"text-align: right;\">\n",
       "      <th></th>\n",
       "      <th>m0</th>\n",
       "      <th>m1</th>\n",
       "      <th>m2</th>\n",
       "      <th>m3</th>\n",
       "      <th>m4</th>\n",
       "      <th>isFraud</th>\n",
       "    </tr>\n",
       "  </thead>\n",
       "  <tbody>\n",
       "    <tr>\n",
       "      <th>m0</th>\n",
       "      <td>1.000000</td>\n",
       "      <td>0.998561</td>\n",
       "      <td>0.996286</td>\n",
       "      <td>0.988454</td>\n",
       "      <td>0.967875</td>\n",
       "      <td>0.992012</td>\n",
       "    </tr>\n",
       "    <tr>\n",
       "      <th>m1</th>\n",
       "      <td>0.998561</td>\n",
       "      <td>1.000000</td>\n",
       "      <td>0.997231</td>\n",
       "      <td>0.989189</td>\n",
       "      <td>0.967395</td>\n",
       "      <td>0.992255</td>\n",
       "    </tr>\n",
       "    <tr>\n",
       "      <th>m2</th>\n",
       "      <td>0.996286</td>\n",
       "      <td>0.997231</td>\n",
       "      <td>1.000000</td>\n",
       "      <td>0.991573</td>\n",
       "      <td>0.965039</td>\n",
       "      <td>0.991964</td>\n",
       "    </tr>\n",
       "    <tr>\n",
       "      <th>m3</th>\n",
       "      <td>0.988454</td>\n",
       "      <td>0.989189</td>\n",
       "      <td>0.991573</td>\n",
       "      <td>1.000000</td>\n",
       "      <td>0.972036</td>\n",
       "      <td>0.994634</td>\n",
       "    </tr>\n",
       "    <tr>\n",
       "      <th>m4</th>\n",
       "      <td>0.967875</td>\n",
       "      <td>0.967395</td>\n",
       "      <td>0.965039</td>\n",
       "      <td>0.972036</td>\n",
       "      <td>1.000000</td>\n",
       "      <td>0.988267</td>\n",
       "    </tr>\n",
       "    <tr>\n",
       "      <th>isFraud</th>\n",
       "      <td>0.992012</td>\n",
       "      <td>0.992255</td>\n",
       "      <td>0.991964</td>\n",
       "      <td>0.994634</td>\n",
       "      <td>0.988267</td>\n",
       "      <td>1.000000</td>\n",
       "    </tr>\n",
       "  </tbody>\n",
       "</table>\n",
       "</div>"
      ],
      "text/plain": [
       "               m0        m1        m2        m3        m4   isFraud\n",
       "m0       1.000000  0.998561  0.996286  0.988454  0.967875  0.992012\n",
       "m1       0.998561  1.000000  0.997231  0.989189  0.967395  0.992255\n",
       "m2       0.996286  0.997231  1.000000  0.991573  0.965039  0.991964\n",
       "m3       0.988454  0.989189  0.991573  1.000000  0.972036  0.994634\n",
       "m4       0.967875  0.967395  0.965039  0.972036  1.000000  0.988267\n",
       "isFraud  0.992012  0.992255  0.991964  0.994634  0.988267  1.000000"
      ]
     },
     "execution_count": 33,
     "metadata": {},
     "output_type": "execute_result"
    }
   ],
   "source": [
    "concat_sub.corr()"
   ]
  },
  {
   "cell_type": "code",
   "execution_count": null,
   "metadata": {},
   "outputs": [],
   "source": []
  }
 ],
 "metadata": {
  "kernelspec": {
   "display_name": "Python 3",
   "language": "python",
   "name": "python3"
  },
  "language_info": {
   "codemirror_mode": {
    "name": "ipython",
    "version": 3
   },
   "file_extension": ".py",
   "mimetype": "text/x-python",
   "name": "python",
   "nbconvert_exporter": "python",
   "pygments_lexer": "ipython3",
   "version": "3.6.8"
  }
 },
 "nbformat": 4,
 "nbformat_minor": 4
}
