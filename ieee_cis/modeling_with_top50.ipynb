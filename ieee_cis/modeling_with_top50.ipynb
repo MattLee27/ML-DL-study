{
 "cells": [
  {
   "cell_type": "markdown",
   "metadata": {},
   "source": [
    "## fe_and_lgb2 파일에서 50개 주요 변수만 추출하여 결과 비교해 보기\n",
    "[Feature Engineering & LightGBM](https://www.kaggle.com/davidcairuz/feature-engineering-lightgbm)\n",
    "- 정확도: 0.9300\n",
    "- 근데 이 파라미터가 50개만 남긴 데이터에 맞는 파라미터일까. 파라미터 추출하는 방법은 뭐지?? 베이지안?\n",
    "- 이제 email_binary 등 해서 결과 비교해 보기\n",
    "- [디스커션](https://www.kaggle.com/c/ieee-fraud-detection/discussion/107697#latest-622651) -> 강한 상관관계 있는 열들 제거해 보기. 그럼 모델이 조금 더 중요한 변수를 학습하는 데 집중할 수 있을 것\n",
    "- pd.rolling -> Moving Average. 이거 고려해 보기. noise 때문에 효과가 떨어진 거라면, 스코어 좋아질 수 있음"
   ]
  },
  {
   "cell_type": "code",
   "execution_count": 1,
   "metadata": {},
   "outputs": [
    {
     "name": "stdout",
     "output_type": "stream",
     "text": [
      "../input/df_id.pkl\n",
      "../input/df_pca.pkl\n",
      "../input/df_test.pkl\n",
      "../input/df_train.pkl\n",
      "../input/df_trans.pkl\n",
      "../input/sample_submission.csv\n",
      "../input/second_test.pkl\n",
      "../input/second_train.pkl\n",
      "../input/test.pkl\n",
      "../input/test_0823.pkl\n",
      "../input/test_identity.csv\n",
      "../input/test_transaction.csv\n",
      "../input/train_0823.pkl\n",
      "../input/train_identity.csv\n",
      "../input/train_transaction.csv\n"
     ]
    }
   ],
   "source": [
    "import pandas as pd\n",
    "import numpy as np\n",
    "from tqdm import tqdm_notebook\n",
    "from sklearn.metrics import roc_auc_score\n",
    "import gc, os, pickle\n",
    "\n",
    "from sklearn.preprocessing import LabelEncoder\n",
    "\n",
    "import matplotlib.pyplot as plt\n",
    "import seaborn as sns\n",
    "sns.set()\n",
    "%matplotlib inline\n",
    "\n",
    "import warnings\n",
    "warnings.filterwarnings('ignore')\n",
    "\n",
    "for dirname, _, filenames in os.walk(\"../input/\"):\n",
    "    for filename in filenames:\n",
    "        print(os.path.join(dirname, filename))"
   ]
  },
  {
   "cell_type": "code",
   "execution_count": 34,
   "metadata": {},
   "outputs": [
    {
     "name": "stdout",
     "output_type": "stream",
     "text": [
      "Wall time: 1.52 s\n"
     ]
    }
   ],
   "source": [
    "%%time\n",
    "train = pd.read_pickle(\"../input/second_train.pkl\")\n",
    "test = pd.read_pickle(\"../input/second_test.pkl\")"
   ]
  },
  {
   "cell_type": "code",
   "execution_count": 35,
   "metadata": {},
   "outputs": [
    {
     "name": "stdout",
     "output_type": "stream",
     "text": [
      "(590540, 488)\n",
      "(506691, 487)\n"
     ]
    }
   ],
   "source": [
    "# 칼럼 수 확인 -> drop 안한 것(488개)\n",
    "print(train.shape)\n",
    "print(test.shape)"
   ]
  },
  {
   "cell_type": "code",
   "execution_count": 36,
   "metadata": {},
   "outputs": [],
   "source": [
    "# 이 데이터는 TransactionDT 파싱 안한 거였네. 하기!!\n",
    "import datetime\n",
    "START_DATE = datetime.datetime.strptime('2017-11-30', '%Y-%m-%d')\n",
    "\n",
    "for df in [train, test]:\n",
    "    # Temporary\n",
    "    df['DT'] = df['TransactionDT'].apply(lambda x: (START_DATE + datetime.timedelta(seconds = x)))\n",
    "    df['DT_M'] = (df['DT'].dt.year-2017)*12 + df['DT'].dt.month\n",
    "    df['DT_W'] = (df['DT'].dt.year-2017)*52 + df['DT'].dt.weekofyear\n",
    "    df['DT_D'] = (df['DT'].dt.year-2017)*365 + df['DT'].dt.dayofyear\n",
    "    \n",
    "    df['DT_hour'] = df['DT'].dt.hour\n",
    "    df['DT_day_week'] = df['DT'].dt.dayofweek\n",
    "    df['DT_day'] = df['DT'].dt.day\n",
    "    \n",
    "    # D9 column. 이건 왜 하는지 모르겠지만 일단 해 놓기\n",
    "    df['D9'] = np.where(df['D9'].isna(),0,1)"
   ]
  },
  {
   "cell_type": "code",
   "execution_count": 18,
   "metadata": {},
   "outputs": [],
   "source": [
    "with open('top5.pkl', 'rb') as f:\n",
    "    top50_features = pickle.load(f)"
   ]
  },
  {
   "cell_type": "code",
   "execution_count": 19,
   "metadata": {},
   "outputs": [
    {
     "data": {
      "text/html": [
       "<div>\n",
       "<style scoped>\n",
       "    .dataframe tbody tr th:only-of-type {\n",
       "        vertical-align: middle;\n",
       "    }\n",
       "\n",
       "    .dataframe tbody tr th {\n",
       "        vertical-align: top;\n",
       "    }\n",
       "\n",
       "    .dataframe thead th {\n",
       "        text-align: right;\n",
       "    }\n",
       "</style>\n",
       "<table border=\"1\" class=\"dataframe\">\n",
       "  <thead>\n",
       "    <tr style=\"text-align: right;\">\n",
       "      <th></th>\n",
       "      <th>feature</th>\n",
       "      <th>fold_1</th>\n",
       "      <th>fold_2</th>\n",
       "      <th>fold_3</th>\n",
       "      <th>fold_4</th>\n",
       "      <th>fold_5</th>\n",
       "      <th>average</th>\n",
       "    </tr>\n",
       "  </thead>\n",
       "  <tbody>\n",
       "    <tr>\n",
       "      <th>471</th>\n",
       "      <td>card1_count_full</td>\n",
       "      <td>32421</td>\n",
       "      <td>28017</td>\n",
       "      <td>24038</td>\n",
       "      <td>23633</td>\n",
       "      <td>47597</td>\n",
       "      <td>31141.2</td>\n",
       "    </tr>\n",
       "    <tr>\n",
       "      <th>488</th>\n",
       "      <td>DT_D</td>\n",
       "      <td>33006</td>\n",
       "      <td>27305</td>\n",
       "      <td>24447</td>\n",
       "      <td>23921</td>\n",
       "      <td>46181</td>\n",
       "      <td>30972.0</td>\n",
       "    </tr>\n",
       "    <tr>\n",
       "      <th>470</th>\n",
       "      <td>addr1__card1</td>\n",
       "      <td>32355</td>\n",
       "      <td>27232</td>\n",
       "      <td>24316</td>\n",
       "      <td>24293</td>\n",
       "      <td>46044</td>\n",
       "      <td>30848.0</td>\n",
       "    </tr>\n",
       "    <tr>\n",
       "      <th>2</th>\n",
       "      <td>card1</td>\n",
       "      <td>32308</td>\n",
       "      <td>27460</td>\n",
       "      <td>22909</td>\n",
       "      <td>22645</td>\n",
       "      <td>42433</td>\n",
       "      <td>29551.0</td>\n",
       "    </tr>\n",
       "    <tr>\n",
       "      <th>467</th>\n",
       "      <td>card1__card5</td>\n",
       "      <td>29188</td>\n",
       "      <td>25945</td>\n",
       "      <td>22599</td>\n",
       "      <td>22023</td>\n",
       "      <td>41829</td>\n",
       "      <td>28316.8</td>\n",
       "    </tr>\n",
       "  </tbody>\n",
       "</table>\n",
       "</div>"
      ],
      "text/plain": [
       "              feature  fold_1  fold_2  fold_3  fold_4  fold_5  average\n",
       "471  card1_count_full   32421   28017   24038   23633   47597  31141.2\n",
       "488              DT_D   33006   27305   24447   23921   46181  30972.0\n",
       "470      addr1__card1   32355   27232   24316   24293   46044  30848.0\n",
       "2               card1   32308   27460   22909   22645   42433  29551.0\n",
       "467      card1__card5   29188   25945   22599   22023   41829  28316.8"
      ]
     },
     "execution_count": 19,
     "metadata": {},
     "output_type": "execute_result"
    }
   ],
   "source": [
    "top50_features.head()"
   ]
  },
  {
   "cell_type": "code",
   "execution_count": 37,
   "metadata": {},
   "outputs": [],
   "source": [
    "train = train.sort_values('TransactionDT')[list(['isFraud']) + list(top50_features['feature'])]\n",
    "test = test.sort_values('TransactionDT')[top50_features['feature']]"
   ]
  },
  {
   "cell_type": "code",
   "execution_count": 38,
   "metadata": {},
   "outputs": [
    {
     "name": "stdout",
     "output_type": "stream",
     "text": [
      "(590540, 51)\n",
      "(506691, 50)\n"
     ]
    }
   ],
   "source": [
    "# 칼럼 수 확인\n",
    "print(train.shape)\n",
    "print(test.shape)"
   ]
  },
  {
   "cell_type": "code",
   "execution_count": 39,
   "metadata": {},
   "outputs": [
    {
     "data": {
      "text/plain": [
       "Index(['isFraud', 'card1_count_full', 'DT_D', 'addr1__card1', 'card1',\n",
       "       'card1__card5', 'TransactionAmt_to_std_card1', 'card2',\n",
       "       'card2_count_full', 'TransactionAmt_to_mean_card1', 'addr1', 'DT_day',\n",
       "       'card2__dist1', 'TransactionAmt_to_std_addr1',\n",
       "       'TransactionAmt_to_mean_addr1', 'TransactionAmt_to_mean_card4',\n",
       "       'card5__P_emaildomain', 'TransactionAmt_to_std_card4',\n",
       "       'P_emaildomain__C2', 'Transaction_hour', 'DT_W', 'dist1',\n",
       "       'TransactionAmt', 'card2__id_20', 'D4', 'D2', 'D15_to_mean_card1',\n",
       "       'TransactionAmt_decimal', 'D15_to_std_card1', 'D10', 'DT_hour', 'C13',\n",
       "       'D1', 'DeviceInfo__P_emaildomain', 'Transaction_day_of_week', 'D11',\n",
       "       'id_20', 'D15_to_mean_addr1', 'DT_day_week', 'id_19',\n",
       "       'D15_to_mean_card4', 'card5', 'C1', 'D8', 'P_emaildomain', 'D15',\n",
       "       'D15_to_std_addr1', 'card5_count_full', 'C2', 'D15_to_std_card4',\n",
       "       'P_emaildomain_bin'],\n",
       "      dtype='object')"
      ]
     },
     "execution_count": 39,
     "metadata": {},
     "output_type": "execute_result"
    }
   ],
   "source": [
    "train.columns"
   ]
  },
  {
   "cell_type": "code",
   "execution_count": 40,
   "metadata": {},
   "outputs": [],
   "source": [
    "from sklearn.model_selection import KFold\n",
    "import lightgbm as lgb\n",
    "\n",
    "params = {'num_leaves': 491,\n",
    "          'min_child_weight': 0.03454472573214212,\n",
    "          'feature_fraction': 0.3797454081646243,\n",
    "          'bagging_fraction': 0.4181193142567742,\n",
    "          'min_data_in_leaf': 106,\n",
    "          'objective': 'binary',\n",
    "          'max_depth': -1,\n",
    "          'learning_rate': 0.006883242363721497,\n",
    "          \"boosting_type\": \"gbdt\",\n",
    "          \"bagging_seed\": 11,\n",
    "          \"metric\": 'auc',\n",
    "          \"verbosity\": -1,\n",
    "          'reg_alpha': 0.3899927210061127,\n",
    "          'reg_lambda': 0.6485237330340494,\n",
    "          'random_state': 47,\n",
    "         }"
   ]
  },
  {
   "cell_type": "code",
   "execution_count": 41,
   "metadata": {},
   "outputs": [
    {
     "name": "stdout",
     "output_type": "stream",
     "text": [
      "Wall time: 553 ms\n"
     ]
    },
    {
     "data": {
      "text/plain": [
       "4867"
      ]
     },
     "execution_count": 41,
     "metadata": {},
     "output_type": "execute_result"
    }
   ],
   "source": [
    "%%time\n",
    "# TransactionDT, DT 칼럼은 이미 50개 컬럼 추출할 때 제거됨\n",
    "X = train.drop(['isFraud'], axis=1)\n",
    "y = train['isFraud']\n",
    "\n",
    "X_test = test\n",
    "\n",
    "del train, test\n",
    "gc.collect()"
   ]
  },
  {
   "cell_type": "code",
   "execution_count": 42,
   "metadata": {},
   "outputs": [
    {
     "name": "stdout",
     "output_type": "stream",
     "text": [
      "Training until validation scores don't improve for 500 rounds.\n",
      "[200]\ttraining's auc: 0.962168\tvalid_1's auc: 0.883048\n",
      "[400]\ttraining's auc: 0.978531\tvalid_1's auc: 0.895265\n",
      "[600]\ttraining's auc: 0.987785\tvalid_1's auc: 0.901008\n",
      "[800]\ttraining's auc: 0.993352\tvalid_1's auc: 0.903592\n",
      "[1000]\ttraining's auc: 0.996523\tvalid_1's auc: 0.905508\n",
      "[1200]\ttraining's auc: 0.998256\tvalid_1's auc: 0.907046\n",
      "[1400]\ttraining's auc: 0.999109\tvalid_1's auc: 0.907469\n",
      "[1600]\ttraining's auc: 0.999544\tvalid_1's auc: 0.908148\n",
      "[1800]\ttraining's auc: 0.999769\tvalid_1's auc: 0.908125\n",
      "[2000]\ttraining's auc: 0.999887\tvalid_1's auc: 0.908501\n",
      "[2200]\ttraining's auc: 0.999946\tvalid_1's auc: 0.908699\n",
      "[2400]\ttraining's auc: 0.999974\tvalid_1's auc: 0.908534\n",
      "[2600]\ttraining's auc: 0.999987\tvalid_1's auc: 0.90835\n",
      "Early stopping, best iteration is:\n",
      "[2204]\ttraining's auc: 0.999947\tvalid_1's auc: 0.908702\n",
      "Fold 1 | AUC: 0.9087083826259736\n",
      "Training until validation scores don't improve for 500 rounds.\n",
      "[200]\ttraining's auc: 0.962036\tvalid_1's auc: 0.901694\n",
      "[400]\ttraining's auc: 0.978112\tvalid_1's auc: 0.913918\n",
      "[600]\ttraining's auc: 0.987648\tvalid_1's auc: 0.921241\n",
      "[800]\ttraining's auc: 0.993427\tvalid_1's auc: 0.925812\n",
      "[1000]\ttraining's auc: 0.996661\tvalid_1's auc: 0.927847\n",
      "[1200]\ttraining's auc: 0.998338\tvalid_1's auc: 0.929004\n",
      "[1400]\ttraining's auc: 0.99917\tvalid_1's auc: 0.92969\n",
      "[1600]\ttraining's auc: 0.999581\tvalid_1's auc: 0.930208\n",
      "[1800]\ttraining's auc: 0.999789\tvalid_1's auc: 0.930495\n",
      "[2000]\ttraining's auc: 0.999901\tvalid_1's auc: 0.930624\n",
      "[2200]\ttraining's auc: 0.999951\tvalid_1's auc: 0.930571\n",
      "[2400]\ttraining's auc: 0.999977\tvalid_1's auc: 0.93059\n",
      "Early stopping, best iteration is:\n",
      "[1928]\ttraining's auc: 0.999871\tvalid_1's auc: 0.930662\n",
      "Fold 2 | AUC: 0.9306616676530275\n",
      "Training until validation scores don't improve for 500 rounds.\n",
      "[200]\ttraining's auc: 0.961922\tvalid_1's auc: 0.909\n",
      "[400]\ttraining's auc: 0.978363\tvalid_1's auc: 0.921315\n",
      "[600]\ttraining's auc: 0.987701\tvalid_1's auc: 0.928115\n",
      "[800]\ttraining's auc: 0.993426\tvalid_1's auc: 0.932392\n",
      "[1000]\ttraining's auc: 0.99671\tvalid_1's auc: 0.934889\n",
      "[1200]\ttraining's auc: 0.998382\tvalid_1's auc: 0.936361\n",
      "[1400]\ttraining's auc: 0.999205\tvalid_1's auc: 0.937372\n",
      "[1600]\ttraining's auc: 0.999604\tvalid_1's auc: 0.938319\n",
      "[1800]\ttraining's auc: 0.999798\tvalid_1's auc: 0.938861\n",
      "[2000]\ttraining's auc: 0.999903\tvalid_1's auc: 0.939345\n",
      "[2200]\ttraining's auc: 0.999955\tvalid_1's auc: 0.939657\n",
      "[2400]\ttraining's auc: 0.999979\tvalid_1's auc: 0.939785\n",
      "[2600]\ttraining's auc: 0.99999\tvalid_1's auc: 0.939966\n",
      "[2800]\ttraining's auc: 0.999996\tvalid_1's auc: 0.940179\n",
      "[3000]\ttraining's auc: 0.999998\tvalid_1's auc: 0.940421\n",
      "[3200]\ttraining's auc: 0.999999\tvalid_1's auc: 0.940473\n",
      "[3400]\ttraining's auc: 0.999999\tvalid_1's auc: 0.940512\n",
      "[3600]\ttraining's auc: 1\tvalid_1's auc: 0.940525\n",
      "[3800]\ttraining's auc: 1\tvalid_1's auc: 0.94046\n",
      "[4000]\ttraining's auc: 1\tvalid_1's auc: 0.940405\n",
      "Early stopping, best iteration is:\n",
      "[3576]\ttraining's auc: 1\tvalid_1's auc: 0.940544\n",
      "Fold 3 | AUC: 0.9405473388476636\n",
      "Training until validation scores don't improve for 500 rounds.\n",
      "[200]\ttraining's auc: 0.962473\tvalid_1's auc: 0.897019\n",
      "[400]\ttraining's auc: 0.979032\tvalid_1's auc: 0.908617\n",
      "[600]\ttraining's auc: 0.988408\tvalid_1's auc: 0.91592\n",
      "[800]\ttraining's auc: 0.993882\tvalid_1's auc: 0.919832\n",
      "[1000]\ttraining's auc: 0.997011\tvalid_1's auc: 0.922003\n",
      "[1200]\ttraining's auc: 0.998555\tvalid_1's auc: 0.923103\n",
      "[1400]\ttraining's auc: 0.999285\tvalid_1's auc: 0.923628\n",
      "[1600]\ttraining's auc: 0.99965\tvalid_1's auc: 0.923728\n",
      "[1800]\ttraining's auc: 0.999833\tvalid_1's auc: 0.923523\n",
      "Early stopping, best iteration is:\n",
      "[1482]\ttraining's auc: 0.999466\tvalid_1's auc: 0.923758\n",
      "Fold 4 | AUC: 0.9237579377802985\n",
      "Training until validation scores don't improve for 500 rounds.\n",
      "[200]\ttraining's auc: 0.961118\tvalid_1's auc: 0.909378\n",
      "[400]\ttraining's auc: 0.977918\tvalid_1's auc: 0.923214\n",
      "[600]\ttraining's auc: 0.98764\tvalid_1's auc: 0.931367\n",
      "[800]\ttraining's auc: 0.993446\tvalid_1's auc: 0.935428\n",
      "[1000]\ttraining's auc: 0.996729\tvalid_1's auc: 0.937042\n",
      "[1200]\ttraining's auc: 0.998425\tvalid_1's auc: 0.937834\n",
      "[1400]\ttraining's auc: 0.999224\tvalid_1's auc: 0.937983\n",
      "[1600]\ttraining's auc: 0.999614\tvalid_1's auc: 0.937952\n",
      "[1800]\ttraining's auc: 0.999809\tvalid_1's auc: 0.937719\n",
      "Early stopping, best iteration is:\n",
      "[1483]\ttraining's auc: 0.999422\tvalid_1's auc: 0.938013\n",
      "Fold 5 | AUC: 0.9380131273664372\n",
      "Training until validation scores don't improve for 500 rounds.\n",
      "[200]\ttraining's auc: 0.961727\tvalid_1's auc: 0.899523\n",
      "[400]\ttraining's auc: 0.978179\tvalid_1's auc: 0.909663\n",
      "[600]\ttraining's auc: 0.987645\tvalid_1's auc: 0.915903\n",
      "[800]\ttraining's auc: 0.993332\tvalid_1's auc: 0.919371\n",
      "[1000]\ttraining's auc: 0.996632\tvalid_1's auc: 0.921292\n",
      "[1200]\ttraining's auc: 0.998367\tvalid_1's auc: 0.922365\n",
      "[1400]\ttraining's auc: 0.999191\tvalid_1's auc: 0.923149\n",
      "[1600]\ttraining's auc: 0.999598\tvalid_1's auc: 0.92371\n",
      "[1800]\ttraining's auc: 0.999803\tvalid_1's auc: 0.924052\n",
      "[2000]\ttraining's auc: 0.999906\tvalid_1's auc: 0.924197\n",
      "[2200]\ttraining's auc: 0.999956\tvalid_1's auc: 0.924487\n",
      "[2400]\ttraining's auc: 0.99998\tvalid_1's auc: 0.924741\n",
      "[2600]\ttraining's auc: 0.999991\tvalid_1's auc: 0.92498\n",
      "[2800]\ttraining's auc: 0.999996\tvalid_1's auc: 0.924954\n",
      "[3000]\ttraining's auc: 0.999998\tvalid_1's auc: 0.925048\n",
      "[3200]\ttraining's auc: 0.999999\tvalid_1's auc: 0.925143\n",
      "[3400]\ttraining's auc: 1\tvalid_1's auc: 0.925166\n",
      "[3600]\ttraining's auc: 1\tvalid_1's auc: 0.925124\n",
      "[3800]\ttraining's auc: 1\tvalid_1's auc: 0.925073\n",
      "Early stopping, best iteration is:\n",
      "[3361]\ttraining's auc: 1\tvalid_1's auc: 0.92518\n",
      "Fold 6 | AUC: 0.9251799320082585\n",
      "\n",
      "Mean AUC = 0.9278113977136098\n",
      "Out of folds AUC = 0.9247420747649946\n",
      "Wall time: 1h 25min 51s\n"
     ]
    }
   ],
   "source": [
    "%%time\n",
    "# Nfold 원래 5였는데, 6으로 해 보기!!\n",
    "NFOLDS = 6\n",
    "folds = KFold(n_splits=NFOLDS)\n",
    "\n",
    "columns = X.columns\n",
    "splits = folds.split(X, y)\n",
    "y_preds = np.zeros(X_test.shape[0])\n",
    "y_oof = np.zeros(X.shape[0])\n",
    "score = 0\n",
    "\n",
    "feature_importances = pd.DataFrame()\n",
    "feature_importances['feature'] = columns\n",
    "  \n",
    "for fold_n, (train_index, valid_index) in enumerate(splits):\n",
    "    X_train, X_valid = X[columns].iloc[train_index], X[columns].iloc[valid_index]\n",
    "    y_train, y_valid = y.iloc[train_index], y.iloc[valid_index]\n",
    "    \n",
    "    dtrain = lgb.Dataset(X_train, label=y_train)\n",
    "    dvalid = lgb.Dataset(X_valid, label=y_valid)\n",
    "\n",
    "    clf = lgb.train(params, dtrain, 10000, valid_sets = [dtrain, dvalid], verbose_eval=200, early_stopping_rounds=500)\n",
    "    \n",
    "    feature_importances[f'fold_{fold_n + 1}'] = clf.feature_importance()\n",
    "    \n",
    "    y_pred_valid = clf.predict(X_valid)\n",
    "    y_oof[valid_index] = y_pred_valid\n",
    "    print(f\"Fold {fold_n + 1} | AUC: {roc_auc_score(y_valid, y_pred_valid)}\")\n",
    "    \n",
    "    score += roc_auc_score(y_valid, y_pred_valid) / NFOLDS\n",
    "    y_preds += clf.predict(X_test) / NFOLDS\n",
    "    \n",
    "    del X_train, X_valid, y_train, y_valid\n",
    "    gc.collect()\n",
    "    \n",
    "print(f\"\\nMean AUC = {score}\")\n",
    "print(f\"Out of folds AUC = {roc_auc_score(y, y_oof)}\")"
   ]
  },
  {
   "cell_type": "code",
   "execution_count": 43,
   "metadata": {},
   "outputs": [],
   "source": [
    "# 1600 사이클까지 봤는데 val auc가 잘 안오르네.. 기대는 안됨\n",
    "sub = pd.read_csv('../input/sample_submission.csv')\n",
    "sub['isFraud'] = y_preds\n",
    "sub.to_csv(\"0916_top50_submission.csv\", index=False)"
   ]
  },
  {
   "cell_type": "code",
   "execution_count": null,
   "metadata": {},
   "outputs": [],
   "source": []
  }
 ],
 "metadata": {
  "kernelspec": {
   "display_name": "Python 3",
   "language": "python",
   "name": "python3"
  },
  "language_info": {
   "codemirror_mode": {
    "name": "ipython",
    "version": 3
   },
   "file_extension": ".py",
   "mimetype": "text/x-python",
   "name": "python",
   "nbconvert_exporter": "python",
   "pygments_lexer": "ipython3",
   "version": "3.6.8"
  }
 },
 "nbformat": 4,
 "nbformat_minor": 4
}
