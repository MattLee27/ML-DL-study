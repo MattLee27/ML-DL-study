{
 "cells": [
  {
   "cell_type": "markdown",
   "metadata": {},
   "source": [
    "- [링크](https://www.acmicpc.net/problem/1193)"
   ]
  },
  {
   "cell_type": "code",
   "execution_count": 99,
   "metadata": {},
   "outputs": [
    {
     "name": "stdin",
     "output_type": "stream",
     "text": [
      " 17\n"
     ]
    },
    {
     "name": "stdout",
     "output_type": "stream",
     "text": [
      "2/5\n"
     ]
    }
   ],
   "source": [
    "X=int(input())\n",
    "i=0\n",
    "mod=0\n",
    "while True:\n",
    "    if X<=0:\n",
    "        break\n",
    "    i+= 1\n",
    "    mod = X\n",
    "    X -= i\n",
    "#print(i, mod)\n",
    "if i % 2 == 1: # 홀수번째 카테고리면\n",
    "    print(\"{}/{}\".format(i+1-mod, mod)) #합은 i+1\n",
    "else:\n",
    "    print(\"{}/{}\".format(mod, i+1-mod))"
   ]
  },
  {
   "cell_type": "code",
   "execution_count": null,
   "metadata": {},
   "outputs": [],
   "source": []
  }
 ],
 "metadata": {
  "kernelspec": {
   "display_name": "Python 3",
   "language": "python",
   "name": "python3"
  },
  "language_info": {
   "codemirror_mode": {
    "name": "ipython",
    "version": 3
   },
   "file_extension": ".py",
   "mimetype": "text/x-python",
   "name": "python",
   "nbconvert_exporter": "python",
   "pygments_lexer": "ipython3",
   "version": "3.6.8"
  }
 },
 "nbformat": 4,
 "nbformat_minor": 4
}
