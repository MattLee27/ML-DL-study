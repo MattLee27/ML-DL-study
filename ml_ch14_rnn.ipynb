{
 "cells": [
  {
   "cell_type": "markdown",
   "metadata": {},
   "source": [
    "## 핸즈온 머신러닝 14장 RNN 해보기"
   ]
  },
  {
   "cell_type": "code",
   "execution_count": 1,
   "metadata": {},
   "outputs": [],
   "source": [
    "import pandas as pd\n",
    "import numpy as np\n",
    "import matplotlib.pyplot as plt\n",
    "import tensorflow as tf"
   ]
  },
  {
   "cell_type": "code",
   "execution_count": 4,
   "metadata": {},
   "outputs": [
    {
     "name": "stdout",
     "output_type": "stream",
     "text": [
      "WARNING:tensorflow:From <ipython-input-4-07ae85b1a3fe>:11: BasicRNNCell.__init__ (from tensorflow.python.ops.rnn_cell_impl) is deprecated and will be removed in a future version.\n",
      "Instructions for updating:\n",
      "This class is equivalent as tf.keras.layers.SimpleRNNCell, and will be replaced by that in Tensorflow 2.0.\n"
     ]
    }
   ],
   "source": [
    "#28x28 픽셀인 MNIST 이미지 학습시켜 보기\n",
    "n_steps = 28\n",
    "n_inputs = 28\n",
    "n_neurons = 150\n",
    "n_outpus = 10\n",
    "\n",
    "learning_rate = 0.001\n",
    "X = tf.placeholder(tf.float32, [None, n_steps, n_inputs])\n",
    "y = tf.placeholder(tf.int32, [None])\n",
    "\n",
    "basic_cell = tf.contrib.rnn.BasicRNNCell(num_units=n_neurons)\n",
    "outputs, states = tf.nn.dynamic_rnn(basic_cell, X, dtype=tf.float32) #states 텐서는 마지막 28번째 출력만 담고 있음\n",
    "logits = tf.layers.dense(states, n_outpus)\n",
    "xentropy = tf.nn.sparse_softmax_cross_entropy_with_logits(labels=y, logits=logits)\n",
    "\n",
    "loss = tf.reduce_mean(xentropy)\n",
    "optimizer = tf.train.AdamOptimizer(learning_rate=learning_rate)\n",
    "training_op = optimizer.minimize(loss)\n",
    "correct = tf.nn.in_top_k(logits, y, 1)\n",
    "accuracy = tf.reduce_mean(tf.cast(correct, tf.float32))\n",
    "\n",
    "init = tf.global_variables_initializer()"
   ]
  },
  {
   "cell_type": "code",
   "execution_count": 6,
   "metadata": {},
   "outputs": [],
   "source": [
    "(X_train, y_train), (X_test, y_test) = tf.keras.datasets.mnist.load_data()\n",
    "X_train = X_train.astype(np.float32).reshape(-1, n_steps * n_inputs) / 255.0\n",
    "X_test = X_test.astype(np.float32).reshape(-1, n_steps * n_inputs) / 255.0\n",
    "y_train = y_train.astype(np.int32)\n",
    "y_test = y_test.astype(np.int32)\n",
    "X_valid, X_train = X_train[:5000], X_train[5000:]\n",
    "y_valid, y_train = y_train[:5000], y_train[5000:]\n",
    "X_test = X_test.reshape((-1, n_steps, n_inputs))\n",
    "X_valid = X_valid.reshape((-1, n_steps, n_inputs))"
   ]
  },
  {
   "cell_type": "code",
   "execution_count": 7,
   "metadata": {},
   "outputs": [],
   "source": [
    "def shuffle_batch(X, y, batch_size):\n",
    "    rnd_idx = np.random.permutation(len(X))\n",
    "    n_batches = len(X) // batch_size\n",
    "    for batch_idx in np.array_split(rnd_idx, n_batches):\n",
    "        X_batch, y_batch = X[batch_idx], y[batch_idx]\n",
    "        yield X_batch, y_batch"
   ]
  },
  {
   "cell_type": "code",
   "execution_count": 8,
   "metadata": {},
   "outputs": [
    {
     "name": "stdout",
     "output_type": "stream",
     "text": [
      "0 배치 데이터 정확도: 0.96666664 검증 세트 정확도: 0.9368\n",
      "1 배치 데이터 정확도: 0.96 검증 세트 정확도: 0.95\n",
      "2 배치 데이터 정확도: 0.9533333 검증 세트 정확도: 0.9576\n",
      "3 배치 데이터 정확도: 0.9533333 검증 세트 정확도: 0.967\n",
      "4 배치 데이터 정확도: 0.9866667 검증 세트 정확도: 0.9696\n",
      "5 배치 데이터 정확도: 0.98 검증 세트 정확도: 0.972\n",
      "6 배치 데이터 정확도: 0.99333334 검증 세트 정확도: 0.9726\n",
      "7 배치 데이터 정확도: 0.99333334 검증 세트 정확도: 0.9738\n",
      "8 배치 데이터 정확도: 0.99333334 검증 세트 정확도: 0.9798\n",
      "9 배치 데이터 정확도: 0.97333336 검증 세트 정확도: 0.972\n",
      "10 배치 데이터 정확도: 0.98 검증 세트 정확도: 0.978\n",
      "11 배치 데이터 정확도: 0.98 검증 세트 정확도: 0.9796\n",
      "12 배치 데이터 정확도: 0.98 검증 세트 정확도: 0.9706\n",
      "13 배치 데이터 정확도: 0.98 검증 세트 정확도: 0.9814\n",
      "14 배치 데이터 정확도: 0.9866667 검증 세트 정확도: 0.982\n",
      "15 배치 데이터 정확도: 0.97333336 검증 세트 정확도: 0.9778\n",
      "16 배치 데이터 정확도: 0.99333334 검증 세트 정확도: 0.9714\n",
      "17 배치 데이터 정확도: 0.96666664 검증 세트 정확도: 0.9722\n",
      "18 배치 데이터 정확도: 1.0 검증 세트 정확도: 0.979\n",
      "19 배치 데이터 정확도: 0.9866667 검증 세트 정확도: 0.9734\n",
      "20 배치 데이터 정확도: 0.99333334 검증 세트 정확도: 0.9798\n",
      "21 배치 데이터 정확도: 0.99333334 검증 세트 정확도: 0.9788\n",
      "22 배치 데이터 정확도: 0.9866667 검증 세트 정확도: 0.9804\n",
      "23 배치 데이터 정확도: 0.98 검증 세트 정확도: 0.9788\n",
      "24 배치 데이터 정확도: 0.9866667 검증 세트 정확도: 0.9826\n",
      "25 배치 데이터 정확도: 1.0 검증 세트 정확도: 0.9796\n",
      "26 배치 데이터 정확도: 0.96 검증 세트 정확도: 0.9744\n",
      "27 배치 데이터 정확도: 0.9866667 검증 세트 정확도: 0.9786\n",
      "28 배치 데이터 정확도: 0.9866667 검증 세트 정확도: 0.9822\n",
      "29 배치 데이터 정확도: 1.0 검증 세트 정확도: 0.9734\n",
      "30 배치 데이터 정확도: 0.98 검증 세트 정확도: 0.9788\n",
      "31 배치 데이터 정확도: 1.0 검증 세트 정확도: 0.9776\n",
      "32 배치 데이터 정확도: 0.9866667 검증 세트 정확도: 0.98\n",
      "33 배치 데이터 정확도: 0.99333334 검증 세트 정확도: 0.9796\n",
      "34 배치 데이터 정확도: 1.0 검증 세트 정확도: 0.9772\n",
      "35 배치 데이터 정확도: 0.99333334 검증 세트 정확도: 0.9782\n",
      "36 배치 데이터 정확도: 0.99333334 검증 세트 정확도: 0.9822\n",
      "37 배치 데이터 정확도: 1.0 검증 세트 정확도: 0.9818\n",
      "38 배치 데이터 정확도: 0.97333336 검증 세트 정확도: 0.9774\n",
      "39 배치 데이터 정확도: 1.0 검증 세트 정확도: 0.9828\n",
      "40 배치 데이터 정확도: 0.9866667 검증 세트 정확도: 0.9756\n",
      "41 배치 데이터 정확도: 0.99333334 검증 세트 정확도: 0.9734\n",
      "42 배치 데이터 정확도: 0.99333334 검증 세트 정확도: 0.9808\n",
      "43 배치 데이터 정확도: 0.9866667 검증 세트 정확도: 0.981\n",
      "44 배치 데이터 정확도: 1.0 검증 세트 정확도: 0.981\n",
      "45 배치 데이터 정확도: 0.96666664 검증 세트 정확도: 0.9688\n",
      "46 배치 데이터 정확도: 0.98 검증 세트 정확도: 0.9802\n",
      "47 배치 데이터 정확도: 0.99333334 검증 세트 정확도: 0.9824\n",
      "48 배치 데이터 정확도: 0.9866667 검증 세트 정확도: 0.9804\n",
      "49 배치 데이터 정확도: 0.99333334 검증 세트 정확도: 0.9814\n",
      "50 배치 데이터 정확도: 1.0 검증 세트 정확도: 0.9788\n",
      "51 배치 데이터 정확도: 0.98 검증 세트 정확도: 0.9826\n",
      "52 배치 데이터 정확도: 1.0 검증 세트 정확도: 0.9836\n",
      "53 배치 데이터 정확도: 0.98 검증 세트 정확도: 0.9744\n",
      "54 배치 데이터 정확도: 0.9866667 검증 세트 정확도: 0.9796\n",
      "55 배치 데이터 정확도: 1.0 검증 세트 정확도: 0.9814\n",
      "56 배치 데이터 정확도: 0.9866667 검증 세트 정확도: 0.9664\n",
      "57 배치 데이터 정확도: 1.0 검증 세트 정확도: 0.9814\n",
      "58 배치 데이터 정확도: 0.99333334 검증 세트 정확도: 0.9772\n",
      "59 배치 데이터 정확도: 0.96666664 검증 세트 정확도: 0.981\n",
      "60 배치 데이터 정확도: 0.99333334 검증 세트 정확도: 0.9806\n",
      "61 배치 데이터 정확도: 0.99333334 검증 세트 정확도: 0.979\n",
      "62 배치 데이터 정확도: 0.99333334 검증 세트 정확도: 0.9804\n",
      "63 배치 데이터 정확도: 1.0 검증 세트 정확도: 0.98\n",
      "64 배치 데이터 정확도: 0.99333334 검증 세트 정확도: 0.9774\n",
      "65 배치 데이터 정확도: 1.0 검증 세트 정확도: 0.9788\n",
      "66 배치 데이터 정확도: 0.99333334 검증 세트 정확도: 0.984\n",
      "67 배치 데이터 정확도: 0.99333334 검증 세트 정확도: 0.979\n",
      "68 배치 데이터 정확도: 1.0 검증 세트 정확도: 0.9792\n",
      "69 배치 데이터 정확도: 1.0 검증 세트 정확도: 0.9766\n",
      "70 배치 데이터 정확도: 0.99333334 검증 세트 정확도: 0.9824\n",
      "71 배치 데이터 정확도: 0.99333334 검증 세트 정확도: 0.981\n",
      "72 배치 데이터 정확도: 0.97333336 검증 세트 정확도: 0.9814\n",
      "73 배치 데이터 정확도: 1.0 검증 세트 정확도: 0.9778\n",
      "74 배치 데이터 정확도: 1.0 검증 세트 정확도: 0.9806\n",
      "75 배치 데이터 정확도: 1.0 검증 세트 정확도: 0.9822\n",
      "76 배치 데이터 정확도: 0.99333334 검증 세트 정확도: 0.982\n",
      "77 배치 데이터 정확도: 0.99333334 검증 세트 정확도: 0.9798\n",
      "78 배치 데이터 정확도: 0.99333334 검증 세트 정확도: 0.9784\n",
      "79 배치 데이터 정확도: 1.0 검증 세트 정확도: 0.9832\n",
      "80 배치 데이터 정확도: 1.0 검증 세트 정확도: 0.9812\n",
      "81 배치 데이터 정확도: 0.99333334 검증 세트 정확도: 0.9798\n",
      "82 배치 데이터 정확도: 1.0 검증 세트 정확도: 0.9786\n",
      "83 배치 데이터 정확도: 0.9866667 검증 세트 정확도: 0.982\n",
      "84 배치 데이터 정확도: 0.9866667 검증 세트 정확도: 0.9736\n",
      "85 배치 데이터 정확도: 0.99333334 검증 세트 정확도: 0.983\n",
      "86 배치 데이터 정확도: 0.99333334 검증 세트 정확도: 0.9744\n",
      "87 배치 데이터 정확도: 1.0 검증 세트 정확도: 0.9768\n",
      "88 배치 데이터 정확도: 1.0 검증 세트 정확도: 0.98\n",
      "89 배치 데이터 정확도: 0.97333336 검증 세트 정확도: 0.9776\n",
      "90 배치 데이터 정확도: 0.98 검증 세트 정확도: 0.9774\n",
      "91 배치 데이터 정확도: 0.9866667 검증 세트 정확도: 0.9772\n",
      "92 배치 데이터 정확도: 0.9866667 검증 세트 정확도: 0.9834\n",
      "93 배치 데이터 정확도: 0.99333334 검증 세트 정확도: 0.9774\n",
      "94 배치 데이터 정확도: 1.0 검증 세트 정확도: 0.9822\n",
      "95 배치 데이터 정확도: 1.0 검증 세트 정확도: 0.9838\n",
      "96 배치 데이터 정확도: 0.99333334 검증 세트 정확도: 0.9838\n",
      "97 배치 데이터 정확도: 0.9866667 검증 세트 정확도: 0.974\n",
      "98 배치 데이터 정확도: 0.9866667 검증 세트 정확도: 0.9774\n",
      "99 배치 데이터 정확도: 0.99333334 검증 세트 정확도: 0.9794\n"
     ]
    }
   ],
   "source": [
    "n_epochs = 100\n",
    "batch_size = 150\n",
    "\n",
    "with tf.Session() as sess:\n",
    "    init.run()\n",
    "    for epoch in range(n_epochs):\n",
    "        for X_batch, y_batch in shuffle_batch(X_train, y_train, batch_size):\n",
    "            X_batch = X_batch.reshape((-1, n_steps, n_inputs))\n",
    "            sess.run(training_op, feed_dict = {X: X_batch, y:y_batch})\n",
    "        acc_batch = accuracy.eval(feed_dict = {X: X_batch, y:y_batch})\n",
    "        acc_valid = accuracy.eval(feed_dict = {X: X_valid, y:y_valid})\n",
    "        if epoch % 5 == 0 || epoch == 99: #5번째마다 or 마지막 결과 출력\n",
    "            print(epoch, \"배치 데이터 정확도:\", acc_batch, \"검증 세트 정확도:\", acc_valid)"
   ]
  },
  {
   "cell_type": "markdown",
   "metadata": {},
   "source": [
    "## 시계열 데이터 예측\n",
    "홈페이지에 있는 코드"
   ]
  },
  {
   "cell_type": "code",
   "execution_count": 6,
   "metadata": {},
   "outputs": [],
   "source": [
    "t_min, t_max = 0, 30\n",
    "resolution = 0.1\n",
    "\n",
    "def time_series(t):\n",
    "    return t * np.sin(t) / 3 + 2 * np.sin(t * 5)\n",
    "\n",
    "def next_batch(batch_size, n_steps): #randn: batch_size * 1 크기의 0~1 난수 배열 생성\n",
    "    t0 = np.random.rand(batch_size, 1) * (t_max - t_min - n_steps * resolution)\n",
    "    Ts = t0 + np.arange(0., n_steps + 1) * resolution\n",
    "    ys = time_series(Ts)\n",
    "    return ys[:, :-1].reshape(-1, n_steps, 1), ys[:, 1:].reshape(-1, n_steps, 1)"
   ]
  },
  {
   "cell_type": "code",
   "execution_count": 52,
   "metadata": {},
   "outputs": [
    {
     "data": {
      "text/plain": [
       "Text(0.5, 0, '시간')"
      ]
     },
     "execution_count": 52,
     "metadata": {},
     "output_type": "execute_result"
    },
    {
     "data": {
      "image/png": "[encoded data removed]",
      "text/plain": [
       "<Figure size 792x288 with 2 Axes>"
      ]
     },
     "metadata": {
      "needs_background": "light"
     },
     "output_type": "display_data"
    }
   ],
   "source": [
    "# np.linspace(0, 100, 5) -> 0~100 구간을 5개로 나눔\n",
    "t = np.linspace(t_min, t_max, int((t_max - t_min) / resolution))\n",
    "\n",
    "n_steps = 20\n",
    "init_num = np.random.randint(20)\n",
    "t_instance = np.linspace(init_num, init_num + resolution * (n_steps + 1), n_steps + 1)\n",
    "\n",
    "import matplotlib\n",
    "matplotlib.rcParams['axes.unicode_minus'] = False\n",
    "plt.rc('font', family = 'malgun gothic')\n",
    "\n",
    "#첫번째 plot\n",
    "plt.figure(figsize = (11,4))\n",
    "plt.subplot(121) #1행 2열의 첫번째 subplot\n",
    "plt.title(\"시계열 데이터(인공 생성)\", fontsize=14)\n",
    "plt.plot(t, time_series(t), label=r\"$t.\\sin(t)/3 + 2.\\sin(5t)$\")\n",
    "plt.plot(t_instance[:-1], time_series(t_instance[:-1]), \"b-\", linewidth=3, label=\"훈련 샘플\")\n",
    "plt.legend(loc = \"lower left\", fontsize=14)\n",
    "plt.axis([0, 30, -17, 13])\n",
    "plt.xlabel(\"시간\")\n",
    "plt.ylabel(\"값\", rotation=0)\n",
    "\n",
    "#두번째 plot\n",
    "plt.subplot(122)\n",
    "plt.title(\"훈련 샘플\", fontsize=14)\n",
    "#샘플은 마지막꺼 제외한 것\n",
    "plt.plot(t_instance[:-1], time_series(t_instance[:-1]), \"bo\", markersize=12, label=\"샘플\")\n",
    "#타깃은 첫번째꺼 제외한 것\n",
    "plt.plot(t_instance[1:], time_series(t_instance[1:]), \"w*\", markeredgewidth=0.5,\n",
    "         markeredgecolor=\"b\", markersize=14, label=\"타깃\")\n",
    "plt.legend(loc = \"upper left\")\n",
    "plt.xlabel(\"시간\")"
   ]
  },
  {
   "cell_type": "code",
   "execution_count": 50,
   "metadata": {},
   "outputs": [
    {
     "name": "stdout",
     "output_type": "stream",
     "text": [
      "21\n",
      "28\n",
      "[11  8  0  5 14 15 19  0 14  0]\n",
      "[0.1230884  0.30870474 0.95400239 0.74446489 0.50396561 0.48467929]\n",
      "[[0.09376476 0.41582723]\n",
      " [0.0549341  0.98102361]\n",
      " [0.26251497 0.33111017]]\n",
      "[-0.25212748  0.31427372  0.85742012 -1.15054084 -0.46529831 -0.18028542]\n",
      "[[ 0.50638442 -0.57218649]\n",
      " [-0.2405407  -0.31379618]\n",
      " [ 0.69410081 -0.15980078]]\n"
     ]
    }
   ],
   "source": [
    "print(np.random.randint(30)) #0부터 30까지 랜덤한 정수 1개\n",
    "print(np.random.randint(25, 30)) #25부터 30까지 랜덤한 정수 1개\n",
    "print(np.random.randint(0, 30, 10)) #0부터 30까지 랜덤한 정수 10개\n",
    "print(np.random.rand(6)) # 0 ~ 1의 균일분포 난수 6개\n",
    "print(np.random.rand(3,2)) # 0 ~ 1의 균일분포 난수 3 * 2개\n",
    "print(np.random.randn(6)) # 평균 0, 표준편차 1인 표준정규분포 난수 6개\n",
    "print(np.random.randn(3,2)) # 평균 0, 표준편차 1인 표준정규분포 난수 3*2개"
   ]
  },
  {
   "cell_type": "markdown",
   "metadata": {},
   "source": [
    "## 시계열 예측을 위해 훈련하기\n",
    "책에 있는 코드"
   ]
  },
  {
   "cell_type": "code",
   "execution_count": 2,
   "metadata": {},
   "outputs": [
    {
     "name": "stdout",
     "output_type": "stream",
     "text": [
      "WARNING:tensorflow:From <ipython-input-2-5699cbeae0b0>:11: BasicRNNCell.__init__ (from tensorflow.python.ops.rnn_cell_impl) is deprecated and will be removed in a future version.\n",
      "Instructions for updating:\n",
      "This class is equivalent as tf.keras.layers.SimpleRNNCell, and will be replaced by that in Tensorflow 2.0.\n"
     ]
    }
   ],
   "source": [
    "#100개의 순환 뉴런, 각 훈련 샘플은 20개, 각 입력은 하나의 특성만 가짐(해당 시간에서의 값)\n",
    "n_steps = 20\n",
    "n_inputs = 1\n",
    "n_neurons = 100 # 각 step에서 크기 100의 출력 벡터를 가짐\n",
    "n_outputs = 1\n",
    "\n",
    "X = tf.placeholder(tf.float32, [None, n_steps, n_inputs]) #[None,20,1]\n",
    "y = tf.placeholder(tf.float32, [None, n_outputs]) #[None,1]\n",
    "#cell = tf.keras.layers.SimpleRNNCell(units=n_neurons, activation=tf.nn.relu)\n",
    "cell = tf.contrib.rnn.OutputProjectionWrapper(\n",
    "tf.contrib.rnn.BasicRNNCell(num_units=n_neurons, activation=tf.nn.relu),\n",
    "output_size=n_outputs)\n",
    "outputs, states = tf.nn.dynamic_rnn(cell, X, dtype=tf.float32)\n",
    "#outputs는 각 cell에서 출력값, states는 마지막 출력값?"
   ]
  },
  {
   "cell_type": "code",
   "execution_count": 3,
   "metadata": {},
   "outputs": [],
   "source": [
    "#cost function 정의. regression이므로 MSE 계산하기\n",
    "learning_rate = 0.01\n",
    "\n",
    "loss = tf.reduce_mean(tf.square(outputs - y))\n",
    "optimizer = tf.train.AdamOptimizer(learning_rate=learning_rate)\n",
    "training_op = optimizer.minimize(loss)\n",
    "\n",
    "init = tf.global_variables_initializer()"
   ]
  },
  {
   "cell_type": "code",
   "execution_count": 4,
   "metadata": {},
   "outputs": [],
   "source": [
    "saver = tf.train.Saver()"
   ]
  },
  {
   "cell_type": "code",
   "execution_count": 53,
   "metadata": {},
   "outputs": [
    {
     "name": "stdout",
     "output_type": "stream",
     "text": [
      "(50, 20, 1)\n",
      "(50, 1)\n"
     ]
    },
    {
     "ename": "InvalidArgumentError",
     "evalue": "Incompatible shapes: [50,20,1] vs. [50,1]\n\t [[node gradients/sub_grad/BroadcastGradientArgs (defined at <ipython-input-3-328a646b55bb>:6)  = BroadcastGradientArgs[T=DT_INT32, _device=\"/job:localhost/replica:0/task:0/device:CPU:0\"](gradients/sub_grad/Shape, gradients/sub_grad/Shape_1)]]\n\nCaused by op 'gradients/sub_grad/BroadcastGradientArgs', defined at:\n  File \"C:\\Users\\ejesu\\.conda\\envs\\test\\lib\\runpy.py\", line 193, in _run_module_as_main\n    \"__main__\", mod_spec)\n  File \"C:\\Users\\ejesu\\.conda\\envs\\test\\lib\\runpy.py\", line 85, in _run_code\n    exec(code, run_globals)\n  File \"C:\\Users\\ejesu\\.conda\\envs\\test\\lib\\site-packages\\ipykernel_launcher.py\", line 16, in <module>\n    app.launch_new_instance()\n  File \"C:\\Users\\ejesu\\.conda\\envs\\test\\lib\\site-packages\\traitlets\\config\\application.py\", line 658, in launch_instance\n    app.start()\n  File \"C:\\Users\\ejesu\\.conda\\envs\\test\\lib\\site-packages\\ipykernel\\kernelapp.py\", line 505, in start\n    self.io_loop.start()\n  File \"C:\\Users\\ejesu\\.conda\\envs\\test\\lib\\site-packages\\tornado\\platform\\asyncio.py\", line 148, in start\n    self.asyncio_loop.run_forever()\n  File \"C:\\Users\\ejesu\\.conda\\envs\\test\\lib\\asyncio\\base_events.py\", line 438, in run_forever\n    self._run_once()\n  File \"C:\\Users\\ejesu\\.conda\\envs\\test\\lib\\asyncio\\base_events.py\", line 1451, in _run_once\n    handle._run()\n  File \"C:\\Users\\ejesu\\.conda\\envs\\test\\lib\\asyncio\\events.py\", line 145, in _run\n    self._callback(*self._args)\n  File \"C:\\Users\\ejesu\\.conda\\envs\\test\\lib\\site-packages\\tornado\\ioloop.py\", line 690, in <lambda>\n    lambda f: self._run_callback(functools.partial(callback, future))\n  File \"C:\\Users\\ejesu\\.conda\\envs\\test\\lib\\site-packages\\tornado\\ioloop.py\", line 743, in _run_callback\n    ret = callback()\n  File \"C:\\Users\\ejesu\\.conda\\envs\\test\\lib\\site-packages\\tornado\\gen.py\", line 787, in inner\n    self.run()\n  File \"C:\\Users\\ejesu\\.conda\\envs\\test\\lib\\site-packages\\tornado\\gen.py\", line 748, in run\n    yielded = self.gen.send(value)\n  File \"C:\\Users\\ejesu\\.conda\\envs\\test\\lib\\site-packages\\ipykernel\\kernelbase.py\", line 365, in process_one\n    yield gen.maybe_future(dispatch(*args))\n  File \"C:\\Users\\ejesu\\.conda\\envs\\test\\lib\\site-packages\\tornado\\gen.py\", line 209, in wrapper\n    yielded = next(result)\n  File \"C:\\Users\\ejesu\\.conda\\envs\\test\\lib\\site-packages\\ipykernel\\kernelbase.py\", line 272, in dispatch_shell\n    yield gen.maybe_future(handler(stream, idents, msg))\n  File \"C:\\Users\\ejesu\\.conda\\envs\\test\\lib\\site-packages\\tornado\\gen.py\", line 209, in wrapper\n    yielded = next(result)\n  File \"C:\\Users\\ejesu\\.conda\\envs\\test\\lib\\site-packages\\ipykernel\\kernelbase.py\", line 542, in execute_request\n    user_expressions, allow_stdin,\n  File \"C:\\Users\\ejesu\\.conda\\envs\\test\\lib\\site-packages\\tornado\\gen.py\", line 209, in wrapper\n    yielded = next(result)\n  File \"C:\\Users\\ejesu\\.conda\\envs\\test\\lib\\site-packages\\ipykernel\\ipkernel.py\", line 294, in do_execute\n    res = shell.run_cell(code, store_history=store_history, silent=silent)\n  File \"C:\\Users\\ejesu\\.conda\\envs\\test\\lib\\site-packages\\ipykernel\\zmqshell.py\", line 536, in run_cell\n    return super(ZMQInteractiveShell, self).run_cell(*args, **kwargs)\n  File \"C:\\Users\\ejesu\\.conda\\envs\\test\\lib\\site-packages\\IPython\\core\\interactiveshell.py\", line 2854, in run_cell\n    raw_cell, store_history, silent, shell_futures)\n  File \"C:\\Users\\ejesu\\.conda\\envs\\test\\lib\\site-packages\\IPython\\core\\interactiveshell.py\", line 2880, in _run_cell\n    return runner(coro)\n  File \"C:\\Users\\ejesu\\.conda\\envs\\test\\lib\\site-packages\\IPython\\core\\async_helpers.py\", line 68, in _pseudo_sync_runner\n    coro.send(None)\n  File \"C:\\Users\\ejesu\\.conda\\envs\\test\\lib\\site-packages\\IPython\\core\\interactiveshell.py\", line 3057, in run_cell_async\n    interactivity=interactivity, compiler=compiler, result=result)\n  File \"C:\\Users\\ejesu\\.conda\\envs\\test\\lib\\site-packages\\IPython\\core\\interactiveshell.py\", line 3248, in run_ast_nodes\n    if (await self.run_code(code, result,  async_=asy)):\n  File \"C:\\Users\\ejesu\\.conda\\envs\\test\\lib\\site-packages\\IPython\\core\\interactiveshell.py\", line 3325, in run_code\n    exec(code_obj, self.user_global_ns, self.user_ns)\n  File \"<ipython-input-3-328a646b55bb>\", line 6, in <module>\n    training_op = optimizer.minimize(loss)\n  File \"C:\\Users\\ejesu\\.conda\\envs\\test\\lib\\site-packages\\tensorflow\\python\\training\\optimizer.py\", line 400, in minimize\n    grad_loss=grad_loss)\n  File \"C:\\Users\\ejesu\\.conda\\envs\\test\\lib\\site-packages\\tensorflow\\python\\training\\optimizer.py\", line 519, in compute_gradients\n    colocate_gradients_with_ops=colocate_gradients_with_ops)\n  File \"C:\\Users\\ejesu\\.conda\\envs\\test\\lib\\site-packages\\tensorflow\\python\\ops\\gradients_impl.py\", line 630, in gradients\n    gate_gradients, aggregation_method, stop_gradients)\n  File \"C:\\Users\\ejesu\\.conda\\envs\\test\\lib\\site-packages\\tensorflow\\python\\ops\\gradients_impl.py\", line 814, in _GradientsHelper\n    lambda: grad_fn(op, *out_grads))\n  File \"C:\\Users\\ejesu\\.conda\\envs\\test\\lib\\site-packages\\tensorflow\\python\\ops\\gradients_impl.py\", line 408, in _MaybeCompile\n    return grad_fn()  # Exit early\n  File \"C:\\Users\\ejesu\\.conda\\envs\\test\\lib\\site-packages\\tensorflow\\python\\ops\\gradients_impl.py\", line 814, in <lambda>\n    lambda: grad_fn(op, *out_grads))\n  File \"C:\\Users\\ejesu\\.conda\\envs\\test\\lib\\site-packages\\tensorflow\\python\\ops\\math_grad.py\", line 923, in _SubGrad\n    rx, ry = gen_array_ops.broadcast_gradient_args(sx, sy)\n  File \"C:\\Users\\ejesu\\.conda\\envs\\test\\lib\\site-packages\\tensorflow\\python\\ops\\gen_array_ops.py\", line 814, in broadcast_gradient_args\n    \"BroadcastGradientArgs\", s0=s0, s1=s1, name=name)\n  File \"C:\\Users\\ejesu\\.conda\\envs\\test\\lib\\site-packages\\tensorflow\\python\\framework\\op_def_library.py\", line 787, in _apply_op_helper\n    op_def=op_def)\n  File \"C:\\Users\\ejesu\\.conda\\envs\\test\\lib\\site-packages\\tensorflow\\python\\util\\deprecation.py\", line 488, in new_func\n    return func(*args, **kwargs)\n  File \"C:\\Users\\ejesu\\.conda\\envs\\test\\lib\\site-packages\\tensorflow\\python\\framework\\ops.py\", line 3274, in create_op\n    op_def=op_def)\n  File \"C:\\Users\\ejesu\\.conda\\envs\\test\\lib\\site-packages\\tensorflow\\python\\framework\\ops.py\", line 1770, in __init__\n    self._traceback = tf_stack.extract_stack()\n\n...which was originally created as op 'sub', defined at:\n  File \"C:\\Users\\ejesu\\.conda\\envs\\test\\lib\\runpy.py\", line 193, in _run_module_as_main\n    \"__main__\", mod_spec)\n[elided 25 identical lines from previous traceback]\n  File \"C:\\Users\\ejesu\\.conda\\envs\\test\\lib\\site-packages\\IPython\\core\\interactiveshell.py\", line 3325, in run_code\n    exec(code_obj, self.user_global_ns, self.user_ns)\n  File \"<ipython-input-3-328a646b55bb>\", line 4, in <module>\n    loss = tf.reduce_mean(tf.square(outputs - y))\n  File \"C:\\Users\\ejesu\\.conda\\envs\\test\\lib\\site-packages\\tensorflow\\python\\ops\\math_ops.py\", line 866, in binary_op_wrapper\n    return func(x, y, name=name)\n  File \"C:\\Users\\ejesu\\.conda\\envs\\test\\lib\\site-packages\\tensorflow\\python\\ops\\gen_math_ops.py\", line 8912, in sub\n    \"Sub\", x=x, y=y, name=name)\n  File \"C:\\Users\\ejesu\\.conda\\envs\\test\\lib\\site-packages\\tensorflow\\python\\framework\\op_def_library.py\", line 787, in _apply_op_helper\n    op_def=op_def)\n  File \"C:\\Users\\ejesu\\.conda\\envs\\test\\lib\\site-packages\\tensorflow\\python\\util\\deprecation.py\", line 488, in new_func\n    return func(*args, **kwargs)\n  File \"C:\\Users\\ejesu\\.conda\\envs\\test\\lib\\site-packages\\tensorflow\\python\\framework\\ops.py\", line 3274, in create_op\n    op_def=op_def)\n  File \"C:\\Users\\ejesu\\.conda\\envs\\test\\lib\\site-packages\\tensorflow\\python\\framework\\ops.py\", line 1770, in __init__\n    self._traceback = tf_stack.extract_stack()\n\nInvalidArgumentError (see above for traceback): Incompatible shapes: [50,20,1] vs. [50,1]\n\t [[node gradients/sub_grad/BroadcastGradientArgs (defined at <ipython-input-3-328a646b55bb>:6)  = BroadcastGradientArgs[T=DT_INT32, _device=\"/job:localhost/replica:0/task:0/device:CPU:0\"](gradients/sub_grad/Shape, gradients/sub_grad/Shape_1)]]\n",
     "output_type": "error",
     "traceback": [
      "\u001b[1;31m---------------------------------------------------------------------------\u001b[0m",
      "\u001b[1;31mInvalidArgumentError\u001b[0m                      Traceback (most recent call last)",
      "\u001b[1;32m~\\.conda\\envs\\test\\lib\\site-packages\\tensorflow\\python\\client\\session.py\u001b[0m in \u001b[0;36m_do_call\u001b[1;34m(self, fn, *args)\u001b[0m\n\u001b[0;32m   1333\u001b[0m     \u001b[1;32mtry\u001b[0m\u001b[1;33m:\u001b[0m\u001b[1;33m\u001b[0m\u001b[1;33m\u001b[0m\u001b[0m\n\u001b[1;32m-> 1334\u001b[1;33m       \u001b[1;32mreturn\u001b[0m \u001b[0mfn\u001b[0m\u001b[1;33m(\u001b[0m\u001b[1;33m*\u001b[0m\u001b[0margs\u001b[0m\u001b[1;33m)\u001b[0m\u001b[1;33m\u001b[0m\u001b[1;33m\u001b[0m\u001b[0m\n\u001b[0m\u001b[0;32m   1335\u001b[0m     \u001b[1;32mexcept\u001b[0m \u001b[0merrors\u001b[0m\u001b[1;33m.\u001b[0m\u001b[0mOpError\u001b[0m \u001b[1;32mas\u001b[0m \u001b[0me\u001b[0m\u001b[1;33m:\u001b[0m\u001b[1;33m\u001b[0m\u001b[1;33m\u001b[0m\u001b[0m\n",
      "\u001b[1;32m~\\.conda\\envs\\test\\lib\\site-packages\\tensorflow\\python\\client\\session.py\u001b[0m in \u001b[0;36m_run_fn\u001b[1;34m(feed_dict, fetch_list, target_list, options, run_metadata)\u001b[0m\n\u001b[0;32m   1318\u001b[0m       return self._call_tf_sessionrun(\n\u001b[1;32m-> 1319\u001b[1;33m           options, feed_dict, fetch_list, target_list, run_metadata)\n\u001b[0m\u001b[0;32m   1320\u001b[0m \u001b[1;33m\u001b[0m\u001b[0m\n",
      "\u001b[1;32m~\\.conda\\envs\\test\\lib\\site-packages\\tensorflow\\python\\client\\session.py\u001b[0m in \u001b[0;36m_call_tf_sessionrun\u001b[1;34m(self, options, feed_dict, fetch_list, target_list, run_metadata)\u001b[0m\n\u001b[0;32m   1406\u001b[0m         \u001b[0mself\u001b[0m\u001b[1;33m.\u001b[0m\u001b[0m_session\u001b[0m\u001b[1;33m,\u001b[0m \u001b[0moptions\u001b[0m\u001b[1;33m,\u001b[0m \u001b[0mfeed_dict\u001b[0m\u001b[1;33m,\u001b[0m \u001b[0mfetch_list\u001b[0m\u001b[1;33m,\u001b[0m \u001b[0mtarget_list\u001b[0m\u001b[1;33m,\u001b[0m\u001b[1;33m\u001b[0m\u001b[1;33m\u001b[0m\u001b[0m\n\u001b[1;32m-> 1407\u001b[1;33m         run_metadata)\n\u001b[0m\u001b[0;32m   1408\u001b[0m \u001b[1;33m\u001b[0m\u001b[0m\n",
      "\u001b[1;31mInvalidArgumentError\u001b[0m: Incompatible shapes: [50,20,1] vs. [50,1]\n\t [[{{node gradients/sub_grad/BroadcastGradientArgs}} = BroadcastGradientArgs[T=DT_INT32, _device=\"/job:localhost/replica:0/task:0/device:CPU:0\"](gradients/sub_grad/Shape, gradients/sub_grad/Shape_1)]]",
      "\nDuring handling of the above exception, another exception occurred:\n",
      "\u001b[1;31mInvalidArgumentError\u001b[0m                      Traceback (most recent call last)",
      "\u001b[1;32m<ipython-input-53-d1f81e654887>\u001b[0m in \u001b[0;36m<module>\u001b[1;34m\u001b[0m\n\u001b[0;32m     24\u001b[0m     \u001b[1;32mfor\u001b[0m \u001b[0miteration\u001b[0m \u001b[1;32min\u001b[0m \u001b[0mrange\u001b[0m\u001b[1;33m(\u001b[0m\u001b[0mn_iterations\u001b[0m\u001b[1;33m)\u001b[0m\u001b[1;33m:\u001b[0m\u001b[1;33m\u001b[0m\u001b[1;33m\u001b[0m\u001b[0m\n\u001b[0;32m     25\u001b[0m         \u001b[0mX_batch\u001b[0m\u001b[1;33m,\u001b[0m \u001b[0my_batch\u001b[0m \u001b[1;33m=\u001b[0m \u001b[0mnext_batch\u001b[0m\u001b[1;33m(\u001b[0m\u001b[0mbatch_size\u001b[0m\u001b[1;33m,\u001b[0m \u001b[0mn_steps\u001b[0m\u001b[1;33m)\u001b[0m\u001b[1;33m\u001b[0m\u001b[1;33m\u001b[0m\u001b[0m\n\u001b[1;32m---> 26\u001b[1;33m         \u001b[0msess\u001b[0m\u001b[1;33m.\u001b[0m\u001b[0mrun\u001b[0m\u001b[1;33m(\u001b[0m\u001b[0mtraining_op\u001b[0m\u001b[1;33m,\u001b[0m \u001b[0mfeed_dict\u001b[0m \u001b[1;33m=\u001b[0m \u001b[1;33m{\u001b[0m\u001b[0mX\u001b[0m\u001b[1;33m:\u001b[0m \u001b[0mX_batch\u001b[0m\u001b[1;33m,\u001b[0m \u001b[0my\u001b[0m\u001b[1;33m:\u001b[0m \u001b[0my_batch\u001b[0m\u001b[1;33m}\u001b[0m\u001b[1;33m)\u001b[0m\u001b[1;33m\u001b[0m\u001b[1;33m\u001b[0m\u001b[0m\n\u001b[0m\u001b[0;32m     27\u001b[0m         \u001b[1;32mif\u001b[0m \u001b[0miteration\u001b[0m \u001b[1;33m%\u001b[0m \u001b[1;36m100\u001b[0m \u001b[1;33m==\u001b[0m \u001b[1;36m0\u001b[0m\u001b[1;33m:\u001b[0m\u001b[1;33m\u001b[0m\u001b[1;33m\u001b[0m\u001b[0m\n\u001b[0;32m     28\u001b[0m             \u001b[0mmse\u001b[0m \u001b[1;33m=\u001b[0m \u001b[0mloss\u001b[0m\u001b[1;33m.\u001b[0m\u001b[0meval\u001b[0m\u001b[1;33m(\u001b[0m\u001b[0mfeed_dict\u001b[0m \u001b[1;33m=\u001b[0m \u001b[1;33m{\u001b[0m\u001b[0mX\u001b[0m\u001b[1;33m:\u001b[0m \u001b[0mX_batch\u001b[0m\u001b[1;33m,\u001b[0m \u001b[0my\u001b[0m\u001b[1;33m:\u001b[0m\u001b[0my_batch\u001b[0m\u001b[1;33m}\u001b[0m\u001b[1;33m)\u001b[0m\u001b[1;33m\u001b[0m\u001b[1;33m\u001b[0m\u001b[0m\n",
      "\u001b[1;32m~\\.conda\\envs\\test\\lib\\site-packages\\tensorflow\\python\\client\\session.py\u001b[0m in \u001b[0;36mrun\u001b[1;34m(self, fetches, feed_dict, options, run_metadata)\u001b[0m\n\u001b[0;32m    927\u001b[0m     \u001b[1;32mtry\u001b[0m\u001b[1;33m:\u001b[0m\u001b[1;33m\u001b[0m\u001b[1;33m\u001b[0m\u001b[0m\n\u001b[0;32m    928\u001b[0m       result = self._run(None, fetches, feed_dict, options_ptr,\n\u001b[1;32m--> 929\u001b[1;33m                          run_metadata_ptr)\n\u001b[0m\u001b[0;32m    930\u001b[0m       \u001b[1;32mif\u001b[0m \u001b[0mrun_metadata\u001b[0m\u001b[1;33m:\u001b[0m\u001b[1;33m\u001b[0m\u001b[1;33m\u001b[0m\u001b[0m\n\u001b[0;32m    931\u001b[0m         \u001b[0mproto_data\u001b[0m \u001b[1;33m=\u001b[0m \u001b[0mtf_session\u001b[0m\u001b[1;33m.\u001b[0m\u001b[0mTF_GetBuffer\u001b[0m\u001b[1;33m(\u001b[0m\u001b[0mrun_metadata_ptr\u001b[0m\u001b[1;33m)\u001b[0m\u001b[1;33m\u001b[0m\u001b[1;33m\u001b[0m\u001b[0m\n",
      "\u001b[1;32m~\\.conda\\envs\\test\\lib\\site-packages\\tensorflow\\python\\client\\session.py\u001b[0m in \u001b[0;36m_run\u001b[1;34m(self, handle, fetches, feed_dict, options, run_metadata)\u001b[0m\n\u001b[0;32m   1150\u001b[0m     \u001b[1;32mif\u001b[0m \u001b[0mfinal_fetches\u001b[0m \u001b[1;32mor\u001b[0m \u001b[0mfinal_targets\u001b[0m \u001b[1;32mor\u001b[0m \u001b[1;33m(\u001b[0m\u001b[0mhandle\u001b[0m \u001b[1;32mand\u001b[0m \u001b[0mfeed_dict_tensor\u001b[0m\u001b[1;33m)\u001b[0m\u001b[1;33m:\u001b[0m\u001b[1;33m\u001b[0m\u001b[1;33m\u001b[0m\u001b[0m\n\u001b[0;32m   1151\u001b[0m       results = self._do_run(handle, final_targets, final_fetches,\n\u001b[1;32m-> 1152\u001b[1;33m                              feed_dict_tensor, options, run_metadata)\n\u001b[0m\u001b[0;32m   1153\u001b[0m     \u001b[1;32melse\u001b[0m\u001b[1;33m:\u001b[0m\u001b[1;33m\u001b[0m\u001b[1;33m\u001b[0m\u001b[0m\n\u001b[0;32m   1154\u001b[0m       \u001b[0mresults\u001b[0m \u001b[1;33m=\u001b[0m \u001b[1;33m[\u001b[0m\u001b[1;33m]\u001b[0m\u001b[1;33m\u001b[0m\u001b[1;33m\u001b[0m\u001b[0m\n",
      "\u001b[1;32m~\\.conda\\envs\\test\\lib\\site-packages\\tensorflow\\python\\client\\session.py\u001b[0m in \u001b[0;36m_do_run\u001b[1;34m(self, handle, target_list, fetch_list, feed_dict, options, run_metadata)\u001b[0m\n\u001b[0;32m   1326\u001b[0m     \u001b[1;32mif\u001b[0m \u001b[0mhandle\u001b[0m \u001b[1;32mis\u001b[0m \u001b[1;32mNone\u001b[0m\u001b[1;33m:\u001b[0m\u001b[1;33m\u001b[0m\u001b[1;33m\u001b[0m\u001b[0m\n\u001b[0;32m   1327\u001b[0m       return self._do_call(_run_fn, feeds, fetches, targets, options,\n\u001b[1;32m-> 1328\u001b[1;33m                            run_metadata)\n\u001b[0m\u001b[0;32m   1329\u001b[0m     \u001b[1;32melse\u001b[0m\u001b[1;33m:\u001b[0m\u001b[1;33m\u001b[0m\u001b[1;33m\u001b[0m\u001b[0m\n\u001b[0;32m   1330\u001b[0m       \u001b[1;32mreturn\u001b[0m \u001b[0mself\u001b[0m\u001b[1;33m.\u001b[0m\u001b[0m_do_call\u001b[0m\u001b[1;33m(\u001b[0m\u001b[0m_prun_fn\u001b[0m\u001b[1;33m,\u001b[0m \u001b[0mhandle\u001b[0m\u001b[1;33m,\u001b[0m \u001b[0mfeeds\u001b[0m\u001b[1;33m,\u001b[0m \u001b[0mfetches\u001b[0m\u001b[1;33m)\u001b[0m\u001b[1;33m\u001b[0m\u001b[1;33m\u001b[0m\u001b[0m\n",
      "\u001b[1;32m~\\.conda\\envs\\test\\lib\\site-packages\\tensorflow\\python\\client\\session.py\u001b[0m in \u001b[0;36m_do_call\u001b[1;34m(self, fn, *args)\u001b[0m\n\u001b[0;32m   1346\u001b[0m           \u001b[1;32mpass\u001b[0m\u001b[1;33m\u001b[0m\u001b[1;33m\u001b[0m\u001b[0m\n\u001b[0;32m   1347\u001b[0m       \u001b[0mmessage\u001b[0m \u001b[1;33m=\u001b[0m \u001b[0merror_interpolation\u001b[0m\u001b[1;33m.\u001b[0m\u001b[0minterpolate\u001b[0m\u001b[1;33m(\u001b[0m\u001b[0mmessage\u001b[0m\u001b[1;33m,\u001b[0m \u001b[0mself\u001b[0m\u001b[1;33m.\u001b[0m\u001b[0m_graph\u001b[0m\u001b[1;33m)\u001b[0m\u001b[1;33m\u001b[0m\u001b[1;33m\u001b[0m\u001b[0m\n\u001b[1;32m-> 1348\u001b[1;33m       \u001b[1;32mraise\u001b[0m \u001b[0mtype\u001b[0m\u001b[1;33m(\u001b[0m\u001b[0me\u001b[0m\u001b[1;33m)\u001b[0m\u001b[1;33m(\u001b[0m\u001b[0mnode_def\u001b[0m\u001b[1;33m,\u001b[0m \u001b[0mop\u001b[0m\u001b[1;33m,\u001b[0m \u001b[0mmessage\u001b[0m\u001b[1;33m)\u001b[0m\u001b[1;33m\u001b[0m\u001b[1;33m\u001b[0m\u001b[0m\n\u001b[0m\u001b[0;32m   1349\u001b[0m \u001b[1;33m\u001b[0m\u001b[0m\n\u001b[0;32m   1350\u001b[0m   \u001b[1;32mdef\u001b[0m \u001b[0m_extend_graph\u001b[0m\u001b[1;33m(\u001b[0m\u001b[0mself\u001b[0m\u001b[1;33m)\u001b[0m\u001b[1;33m:\u001b[0m\u001b[1;33m\u001b[0m\u001b[1;33m\u001b[0m\u001b[0m\n",
      "\u001b[1;31mInvalidArgumentError\u001b[0m: Incompatible shapes: [50,20,1] vs. [50,1]\n\t [[node gradients/sub_grad/BroadcastGradientArgs (defined at <ipython-input-3-328a646b55bb>:6)  = BroadcastGradientArgs[T=DT_INT32, _device=\"/job:localhost/replica:0/task:0/device:CPU:0\"](gradients/sub_grad/Shape, gradients/sub_grad/Shape_1)]]\n\nCaused by op 'gradients/sub_grad/BroadcastGradientArgs', defined at:\n  File \"C:\\Users\\ejesu\\.conda\\envs\\test\\lib\\runpy.py\", line 193, in _run_module_as_main\n    \"__main__\", mod_spec)\n  File \"C:\\Users\\ejesu\\.conda\\envs\\test\\lib\\runpy.py\", line 85, in _run_code\n    exec(code, run_globals)\n  File \"C:\\Users\\ejesu\\.conda\\envs\\test\\lib\\site-packages\\ipykernel_launcher.py\", line 16, in <module>\n    app.launch_new_instance()\n  File \"C:\\Users\\ejesu\\.conda\\envs\\test\\lib\\site-packages\\traitlets\\config\\application.py\", line 658, in launch_instance\n    app.start()\n  File \"C:\\Users\\ejesu\\.conda\\envs\\test\\lib\\site-packages\\ipykernel\\kernelapp.py\", line 505, in start\n    self.io_loop.start()\n  File \"C:\\Users\\ejesu\\.conda\\envs\\test\\lib\\site-packages\\tornado\\platform\\asyncio.py\", line 148, in start\n    self.asyncio_loop.run_forever()\n  File \"C:\\Users\\ejesu\\.conda\\envs\\test\\lib\\asyncio\\base_events.py\", line 438, in run_forever\n    self._run_once()\n  File \"C:\\Users\\ejesu\\.conda\\envs\\test\\lib\\asyncio\\base_events.py\", line 1451, in _run_once\n    handle._run()\n  File \"C:\\Users\\ejesu\\.conda\\envs\\test\\lib\\asyncio\\events.py\", line 145, in _run\n    self._callback(*self._args)\n  File \"C:\\Users\\ejesu\\.conda\\envs\\test\\lib\\site-packages\\tornado\\ioloop.py\", line 690, in <lambda>\n    lambda f: self._run_callback(functools.partial(callback, future))\n  File \"C:\\Users\\ejesu\\.conda\\envs\\test\\lib\\site-packages\\tornado\\ioloop.py\", line 743, in _run_callback\n    ret = callback()\n  File \"C:\\Users\\ejesu\\.conda\\envs\\test\\lib\\site-packages\\tornado\\gen.py\", line 787, in inner\n    self.run()\n  File \"C:\\Users\\ejesu\\.conda\\envs\\test\\lib\\site-packages\\tornado\\gen.py\", line 748, in run\n    yielded = self.gen.send(value)\n  File \"C:\\Users\\ejesu\\.conda\\envs\\test\\lib\\site-packages\\ipykernel\\kernelbase.py\", line 365, in process_one\n    yield gen.maybe_future(dispatch(*args))\n  File \"C:\\Users\\ejesu\\.conda\\envs\\test\\lib\\site-packages\\tornado\\gen.py\", line 209, in wrapper\n    yielded = next(result)\n  File \"C:\\Users\\ejesu\\.conda\\envs\\test\\lib\\site-packages\\ipykernel\\kernelbase.py\", line 272, in dispatch_shell\n    yield gen.maybe_future(handler(stream, idents, msg))\n  File \"C:\\Users\\ejesu\\.conda\\envs\\test\\lib\\site-packages\\tornado\\gen.py\", line 209, in wrapper\n    yielded = next(result)\n  File \"C:\\Users\\ejesu\\.conda\\envs\\test\\lib\\site-packages\\ipykernel\\kernelbase.py\", line 542, in execute_request\n    user_expressions, allow_stdin,\n  File \"C:\\Users\\ejesu\\.conda\\envs\\test\\lib\\site-packages\\tornado\\gen.py\", line 209, in wrapper\n    yielded = next(result)\n  File \"C:\\Users\\ejesu\\.conda\\envs\\test\\lib\\site-packages\\ipykernel\\ipkernel.py\", line 294, in do_execute\n    res = shell.run_cell(code, store_history=store_history, silent=silent)\n  File \"C:\\Users\\ejesu\\.conda\\envs\\test\\lib\\site-packages\\ipykernel\\zmqshell.py\", line 536, in run_cell\n    return super(ZMQInteractiveShell, self).run_cell(*args, **kwargs)\n  File \"C:\\Users\\ejesu\\.conda\\envs\\test\\lib\\site-packages\\IPython\\core\\interactiveshell.py\", line 2854, in run_cell\n    raw_cell, store_history, silent, shell_futures)\n  File \"C:\\Users\\ejesu\\.conda\\envs\\test\\lib\\site-packages\\IPython\\core\\interactiveshell.py\", line 2880, in _run_cell\n    return runner(coro)\n  File \"C:\\Users\\ejesu\\.conda\\envs\\test\\lib\\site-packages\\IPython\\core\\async_helpers.py\", line 68, in _pseudo_sync_runner\n    coro.send(None)\n  File \"C:\\Users\\ejesu\\.conda\\envs\\test\\lib\\site-packages\\IPython\\core\\interactiveshell.py\", line 3057, in run_cell_async\n    interactivity=interactivity, compiler=compiler, result=result)\n  File \"C:\\Users\\ejesu\\.conda\\envs\\test\\lib\\site-packages\\IPython\\core\\interactiveshell.py\", line 3248, in run_ast_nodes\n    if (await self.run_code(code, result,  async_=asy)):\n  File \"C:\\Users\\ejesu\\.conda\\envs\\test\\lib\\site-packages\\IPython\\core\\interactiveshell.py\", line 3325, in run_code\n    exec(code_obj, self.user_global_ns, self.user_ns)\n  File \"<ipython-input-3-328a646b55bb>\", line 6, in <module>\n    training_op = optimizer.minimize(loss)\n  File \"C:\\Users\\ejesu\\.conda\\envs\\test\\lib\\site-packages\\tensorflow\\python\\training\\optimizer.py\", line 400, in minimize\n    grad_loss=grad_loss)\n  File \"C:\\Users\\ejesu\\.conda\\envs\\test\\lib\\site-packages\\tensorflow\\python\\training\\optimizer.py\", line 519, in compute_gradients\n    colocate_gradients_with_ops=colocate_gradients_with_ops)\n  File \"C:\\Users\\ejesu\\.conda\\envs\\test\\lib\\site-packages\\tensorflow\\python\\ops\\gradients_impl.py\", line 630, in gradients\n    gate_gradients, aggregation_method, stop_gradients)\n  File \"C:\\Users\\ejesu\\.conda\\envs\\test\\lib\\site-packages\\tensorflow\\python\\ops\\gradients_impl.py\", line 814, in _GradientsHelper\n    lambda: grad_fn(op, *out_grads))\n  File \"C:\\Users\\ejesu\\.conda\\envs\\test\\lib\\site-packages\\tensorflow\\python\\ops\\gradients_impl.py\", line 408, in _MaybeCompile\n    return grad_fn()  # Exit early\n  File \"C:\\Users\\ejesu\\.conda\\envs\\test\\lib\\site-packages\\tensorflow\\python\\ops\\gradients_impl.py\", line 814, in <lambda>\n    lambda: grad_fn(op, *out_grads))\n  File \"C:\\Users\\ejesu\\.conda\\envs\\test\\lib\\site-packages\\tensorflow\\python\\ops\\math_grad.py\", line 923, in _SubGrad\n    rx, ry = gen_array_ops.broadcast_gradient_args(sx, sy)\n  File \"C:\\Users\\ejesu\\.conda\\envs\\test\\lib\\site-packages\\tensorflow\\python\\ops\\gen_array_ops.py\", line 814, in broadcast_gradient_args\n    \"BroadcastGradientArgs\", s0=s0, s1=s1, name=name)\n  File \"C:\\Users\\ejesu\\.conda\\envs\\test\\lib\\site-packages\\tensorflow\\python\\framework\\op_def_library.py\", line 787, in _apply_op_helper\n    op_def=op_def)\n  File \"C:\\Users\\ejesu\\.conda\\envs\\test\\lib\\site-packages\\tensorflow\\python\\util\\deprecation.py\", line 488, in new_func\n    return func(*args, **kwargs)\n  File \"C:\\Users\\ejesu\\.conda\\envs\\test\\lib\\site-packages\\tensorflow\\python\\framework\\ops.py\", line 3274, in create_op\n    op_def=op_def)\n  File \"C:\\Users\\ejesu\\.conda\\envs\\test\\lib\\site-packages\\tensorflow\\python\\framework\\ops.py\", line 1770, in __init__\n    self._traceback = tf_stack.extract_stack()\n\n...which was originally created as op 'sub', defined at:\n  File \"C:\\Users\\ejesu\\.conda\\envs\\test\\lib\\runpy.py\", line 193, in _run_module_as_main\n    \"__main__\", mod_spec)\n[elided 25 identical lines from previous traceback]\n  File \"C:\\Users\\ejesu\\.conda\\envs\\test\\lib\\site-packages\\IPython\\core\\interactiveshell.py\", line 3325, in run_code\n    exec(code_obj, self.user_global_ns, self.user_ns)\n  File \"<ipython-input-3-328a646b55bb>\", line 4, in <module>\n    loss = tf.reduce_mean(tf.square(outputs - y))\n  File \"C:\\Users\\ejesu\\.conda\\envs\\test\\lib\\site-packages\\tensorflow\\python\\ops\\math_ops.py\", line 866, in binary_op_wrapper\n    return func(x, y, name=name)\n  File \"C:\\Users\\ejesu\\.conda\\envs\\test\\lib\\site-packages\\tensorflow\\python\\ops\\gen_math_ops.py\", line 8912, in sub\n    \"Sub\", x=x, y=y, name=name)\n  File \"C:\\Users\\ejesu\\.conda\\envs\\test\\lib\\site-packages\\tensorflow\\python\\framework\\op_def_library.py\", line 787, in _apply_op_helper\n    op_def=op_def)\n  File \"C:\\Users\\ejesu\\.conda\\envs\\test\\lib\\site-packages\\tensorflow\\python\\util\\deprecation.py\", line 488, in new_func\n    return func(*args, **kwargs)\n  File \"C:\\Users\\ejesu\\.conda\\envs\\test\\lib\\site-packages\\tensorflow\\python\\framework\\ops.py\", line 3274, in create_op\n    op_def=op_def)\n  File \"C:\\Users\\ejesu\\.conda\\envs\\test\\lib\\site-packages\\tensorflow\\python\\framework\\ops.py\", line 1770, in __init__\n    self._traceback = tf_stack.extract_stack()\n\nInvalidArgumentError (see above for traceback): Incompatible shapes: [50,20,1] vs. [50,1]\n\t [[node gradients/sub_grad/BroadcastGradientArgs (defined at <ipython-input-3-328a646b55bb>:6)  = BroadcastGradientArgs[T=DT_INT32, _device=\"/job:localhost/replica:0/task:0/device:CPU:0\"](gradients/sub_grad/Shape, gradients/sub_grad/Shape_1)]]\n"
     ]
    }
   ],
   "source": [
    "n_iterations = 1500\n",
    "batch_size = 50\n",
    "\n",
    "t_min, t_max = 0, 30\n",
    "resolution = 0.1\n",
    "\n",
    "def time_series(t):\n",
    "    return t * np.sin(t) / 3 + 2 * np.sin(t * 5)\n",
    "\n",
    "def next_batch(batch_size, n_steps):\n",
    "    t0 = np.random.rand(batch_size, 1) * (30 - n_steps * resolution)\n",
    "    #print(t0.shape) #50,1\n",
    "    Ts = t0 + np.arange(0., n_steps + 1) * resolution\n",
    "    #print(Ts.shape) #50,21\n",
    "    ys = time_series(Ts)\n",
    "    return ys[:, :-1].reshape(-1, n_steps, 1), ys[:, -1].reshape(-1, 1)\n",
    "\n",
    "X_imsi, y_imsi = next_batch(batch_size, n_steps)\n",
    "print(X_imsi.shape) #(50,20,1)이 되어야 함\n",
    "print(y_imsi.shape) #(50,1)이 되어야 함\n",
    "\n",
    "with tf.Session() as sess:\n",
    "    init.run()\n",
    "    for iteration in range(n_iterations):\n",
    "        X_batch, y_batch = next_batch(batch_size, n_steps)\n",
    "        sess.run(training_op, feed_dict = {X: X_batch, y: y_batch})\n",
    "        if iteration % 100 == 0:\n",
    "            mse = loss.eval(feed_dict = {X: X_batch, y:y_batch})\n",
    "            print(iteration, \"\\tMSE:\", mse)\n",
    "    saver.save(sess, \"./my_time_series_model\")"
   ]
  },
  {
   "cell_type": "code",
   "execution_count": 47,
   "metadata": {},
   "outputs": [
    {
     "data": {
      "text/plain": [
       "21"
      ]
     },
     "execution_count": 47,
     "metadata": {},
     "output_type": "execute_result"
    }
   ],
   "source": [
    "np.arange(0., 21)"
   ]
  },
  {
   "cell_type": "code",
   "execution_count": null,
   "metadata": {},
   "outputs": [],
   "source": []
  }
 ],
 "metadata": {
  "kernelspec": {
   "display_name": "Python 3",
   "language": "python",
   "name": "python3"
  },
  "language_info": {
   "codemirror_mode": {
    "name": "ipython",
    "version": 3
   },
   "file_extension": ".py",
   "mimetype": "text/x-python",
   "name": "python",
   "nbconvert_exporter": "python",
   "pygments_lexer": "ipython3",
   "version": "3.6.8"
  }
 },
 "nbformat": 4,
 "nbformat_minor": 4
}
